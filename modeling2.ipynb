{
 "cells": [
  {
   "cell_type": "code",
   "execution_count": 17,
   "metadata": {
    "tags": []
   },
   "outputs": [],
   "source": [
    "import re\n",
    "import numpy as np\n",
    "import pandas as pd\n",
    "from pprint import pprint\n",
    "\n",
    "# Gensim\n",
    "import gensim\n",
    "import gensim.corpora as corpora\n",
    "from gensim.utils import simple_preprocess\n",
    "from gensim.models import CoherenceModel\n",
    "\n",
    "import spacy\n",
    "\n",
    "# Plotting tools\n",
    "import pyLDAvis\n",
    "import pyLDAvis.gensim  # don't skip this\n",
    "import matplotlib.pyplot as plt\n",
    "%matplotlib inline\n",
    "\n",
    "# Enable logging for gensim - optional\n",
    "import logging\n",
    "logging.basicConfig(format='%(asctime)s : %(levelname)s : %(message)s', level=logging.ERROR)\n",
    "\n",
    "import warnings\n",
    "warnings.filterwarnings(\"ignore\",category=DeprecationWarning)"
   ]
  },
  {
   "cell_type": "code",
   "execution_count": 18,
   "metadata": {},
   "outputs": [
    {
     "output_type": "execute_result",
     "data": {
      "text/plain": "        video_id                                        translation\n0    --kmm2el4tE  This man no longer has a title: that of the ri...\n1    -7ZJb38ADug                                       Not possible\n2    -GhKEWuDc_M  Welcome to Interesting Short Documentaries\\n! ...\n3    -L_JoOgQ.en  Music playing! music playing! music playing! h...\n4    -W4GQXTc.en  Over 26 billion tons For each American it's ab...\n..           ...                                                ...\n526  zbrYuCOE.en  The creation of a global cashless society\\nhas...\n527  zdeT2i9k.en  Bill Gates Real Story | Biography Of Bill Gate...\n528  zmtxU8q6ohA  We live in a time of extraordinary inequality....\n529  zrQaEybc4u4                                       Not possible\n530  zwGdnCNi8Ss  Da Vinci lived from 1452 to 1519, so it’s the ...\n\n[531 rows x 2 columns]",
      "text/html": "<div>\n<style scoped>\n    .dataframe tbody tr th:only-of-type {\n        vertical-align: middle;\n    }\n\n    .dataframe tbody tr th {\n        vertical-align: top;\n    }\n\n    .dataframe thead th {\n        text-align: right;\n    }\n</style>\n<table border=\"1\" class=\"dataframe\">\n  <thead>\n    <tr style=\"text-align: right;\">\n      <th></th>\n      <th>video_id</th>\n      <th>translation</th>\n    </tr>\n  </thead>\n  <tbody>\n    <tr>\n      <th>0</th>\n      <td>--kmm2el4tE</td>\n      <td>This man no longer has a title: that of the ri...</td>\n    </tr>\n    <tr>\n      <th>1</th>\n      <td>-7ZJb38ADug</td>\n      <td>Not possible</td>\n    </tr>\n    <tr>\n      <th>2</th>\n      <td>-GhKEWuDc_M</td>\n      <td>Welcome to Interesting Short Documentaries\\n! ...</td>\n    </tr>\n    <tr>\n      <th>3</th>\n      <td>-L_JoOgQ.en</td>\n      <td>Music playing! music playing! music playing! h...</td>\n    </tr>\n    <tr>\n      <th>4</th>\n      <td>-W4GQXTc.en</td>\n      <td>Over 26 billion tons For each American it's ab...</td>\n    </tr>\n    <tr>\n      <th>...</th>\n      <td>...</td>\n      <td>...</td>\n    </tr>\n    <tr>\n      <th>526</th>\n      <td>zbrYuCOE.en</td>\n      <td>The creation of a global cashless society\\nhas...</td>\n    </tr>\n    <tr>\n      <th>527</th>\n      <td>zdeT2i9k.en</td>\n      <td>Bill Gates Real Story | Biography Of Bill Gate...</td>\n    </tr>\n    <tr>\n      <th>528</th>\n      <td>zmtxU8q6ohA</td>\n      <td>We live in a time of extraordinary inequality....</td>\n    </tr>\n    <tr>\n      <th>529</th>\n      <td>zrQaEybc4u4</td>\n      <td>Not possible</td>\n    </tr>\n    <tr>\n      <th>530</th>\n      <td>zwGdnCNi8Ss</td>\n      <td>Da Vinci lived from 1452 to 1519, so it’s the ...</td>\n    </tr>\n  </tbody>\n</table>\n<p>531 rows × 2 columns</p>\n</div>"
     },
     "metadata": {},
     "execution_count": 18
    }
   ],
   "source": [
    "# import dataframe\n",
    "col_list = ['video_id', 'translation']\n",
    "\n",
    "df = pd.read_csv('C:/Users/bj-sa/Desktop/Database/translated_subtitles_scores.csv', usecols=col_list)\n",
    "df = df.groupby('video_id').translation.agg(' '.join).reset_index()\n",
    "df"
   ]
  },
  {
   "cell_type": "code",
   "execution_count": 19,
   "metadata": {},
   "outputs": [],
   "source": [
    "# NLTK Stop words\n",
    "from nltk.corpus import stopwords\n",
    "stop_words = stopwords.words('english')\n",
    "stop_words.extend(['from', 'subject', 're', 'edu', 'use', 've'])"
   ]
  },
  {
   "cell_type": "code",
   "execution_count": 20,
   "metadata": {
    "tags": []
   },
   "outputs": [
    {
     "output_type": "stream",
     "name": "stdout",
     "text": "['This man no longer has a title: that of the richest man on earth. And Bill '\n 'Gates has it all for himself got together. By giving money away. He would '\n 'prefer to do that much more, but he cant. Gates was the richest man '\n 'overtaken by the Amazon CEO Jeff Bezos. He got a few billion more this year '\n 'and now stands at about 100 billion dollars. Bill Gates, yes he did just '\n 'that little bit this year less well. And must now settle for the second '\n 'place. Thats not because his company Microsoft is doing so badly, or because '\n 'he made a bad investment. No, its because Gates has so much money given away '\n 'to charities. He gave $ 4.6 billion this year own charity, the Bill and '\n 'Melinda Gates Foundation. It was the greatest donation of the century. For '\n 'comparison: the Netherlands budgeted 4.5 billion euros for development aid. '\n 'But even that mega gift is not enough to keep up with the growth of his '\n 'assets. That grew by $ 9 billion this year. And that happened much more '\n 'often. in 2016 he gave away over 2 billion. Then his wealth went up by 6 '\n 'billion. 2015 was a crazy year, when it didnt work out that way good with '\n 'Bills money. But also in 2014 and 2013 Gates wealth increased faster than '\n 'the money he gave to charities. In 2013, he even gave a meager 181 million. '\n 'Look, you see that here. So Gates ability grows faster than he gives it '\n 'away. There are a few small dips in it, however he can still spend so much '\n 'on charities, his equity grows faster. You could say it might be a good '\n 'thing Gates doesnt give away all of his money at once. Because giving more '\n 'money away also gives you more influence in the world. For example, super '\n 'investor George Soros is investing billions in promoting democracy and '\n 'fighting intolerance. Political themes he finds important. Mark Zuckerberg '\n 'wants to be the majority of it give away money for better education in '\n 'America. Not surprising, because he has young children himself. And Bill '\n 'Gates is committed to tackling malaria and AIDS. The diseases he wants to '\n 'fight first. Well, those are not really political goals. So maybe he does it '\n 'very consciously. He slowly gives away his money because he knows that his '\n 'assets grow faster every year. And the longer he waits, the more he ends up '\n 'to those charities. Ok there are some dips in it, but its in had already '\n 'gone from 60 to 90 billion in a few years. 50 percent growth in five years. '\n 'If you pull that through, Bill Gates would be over Have $ 200 billion in 10 '\n 'years. Gates is in his 70s. He wants to have given away 95 percent of all '\n 'his money at the end of his life, and that amounts to 190 billion. About 10 '\n 'billion remains. You would think that is good for his children. Well, Bill '\n 'thinks otherwise. He thinks 10 million per child is enough. Because they '\n 'dont get all that money there better off.']\n"
    }
   ],
   "source": [
    "# Convert to list\n",
    "data = df.translation.values.tolist()\n",
    "\n",
    "# Remove Emails\n",
    "data = [re.sub('\\S*@\\S*\\s?', '', sent) for sent in data]\n",
    "\n",
    "# Remove new line characters\n",
    "data = [re.sub('\\s+', ' ', sent) for sent in data]\n",
    "\n",
    "# Remove distracting single quotes\n",
    "data = [re.sub(\"\\'\", \"\", sent) for sent in data]\n",
    "\n",
    "pprint(data[:1])"
   ]
  },
  {
   "cell_type": "code",
   "execution_count": 21,
   "metadata": {
    "tags": []
   },
   "outputs": [
    {
     "output_type": "stream",
     "name": "stdout",
     "text": "[['this', 'man', 'no', 'longer', 'has', 'title', 'that', 'of', 'the', 'richest', 'man', 'on', 'earth', 'and', 'bill', 'gates', 'has', 'it', 'all', 'for', 'himself', 'got', 'together', 'by', 'giving', 'money', 'away', 'he', 'would', 'prefer', 'to', 'do', 'that', 'much', 'more', 'but', 'he', 'cant', 'gates', 'was', 'the', 'richest', 'man', 'overtaken', 'by', 'the', 'amazon', 'ceo', 'jeff', 'bezos', 'he', 'got', 'few', 'billion', 'more', 'this', 'year', 'and', 'now', 'stands', 'at', 'about', 'billion', 'dollars', 'bill', 'gates', 'yes', 'he', 'did', 'just', 'that', 'little', 'bit', 'this', 'year', 'less', 'well', 'and', 'must', 'now', 'settle', 'for', 'the', 'second', 'place', 'thats', 'not', 'because', 'his', 'company', 'microsoft', 'is', 'doing', 'so', 'badly', 'or', 'because', 'he', 'made', 'bad', 'investment', 'no', 'its', 'because', 'gates', 'has', 'so', 'much', 'money', 'given', 'away', 'to', 'charities', 'he', 'gave', 'billion', 'this', 'year', 'own', 'charity', 'the', 'bill', 'and', 'melinda', 'gates', 'foundation', 'it', 'was', 'the', 'greatest', 'donation', 'of', 'the', 'century', 'for', 'comparison', 'the', 'netherlands', 'budgeted', 'billion', 'euros', 'for', 'development', 'aid', 'but', 'even', 'that', 'mega', 'gift', 'is', 'not', 'enough', 'to', 'keep', 'up', 'with', 'the', 'growth', 'of', 'his', 'assets', 'that', 'grew', 'by', 'billion', 'this', 'year', 'and', 'that', 'happened', 'much', 'more', 'often', 'in', 'he', 'gave', 'away', 'over', 'billion', 'then', 'his', 'wealth', 'went', 'up', 'by', 'billion', 'was', 'crazy', 'year', 'when', 'it', 'didnt', 'work', 'out', 'that', 'way', 'good', 'with', 'bills', 'money', 'but', 'also', 'in', 'and', 'gates', 'wealth', 'increased', 'faster', 'than', 'the', 'money', 'he', 'gave', 'to', 'charities', 'in', 'he', 'even', 'gave', 'meager', 'million', 'look', 'you', 'see', 'that', 'here', 'so', 'gates', 'ability', 'grows', 'faster', 'than', 'he', 'gives', 'it', 'away', 'there', 'are', 'few', 'small', 'dips', 'in', 'it', 'however', 'he', 'can', 'still', 'spend', 'so', 'much', 'on', 'charities', 'his', 'equity', 'grows', 'faster', 'you', 'could', 'say', 'it', 'might', 'be', 'good', 'thing', 'gates', 'doesnt', 'give', 'away', 'all', 'of', 'his', 'money', 'at', 'once', 'because', 'giving', 'more', 'money', 'away', 'also', 'gives', 'you', 'more', 'influence', 'in', 'the', 'world', 'for', 'example', 'super', 'investor', 'george', 'soros', 'is', 'investing', 'billions', 'in', 'promoting', 'democracy', 'and', 'fighting', 'intolerance', 'political', 'themes', 'he', 'finds', 'important', 'mark', 'zuckerberg', 'wants', 'to', 'be', 'the', 'majority', 'of', 'it', 'give', 'away', 'money', 'for', 'better', 'education', 'in', 'america', 'not', 'surprising', 'because', 'he', 'has', 'young', 'children', 'himself', 'and', 'bill', 'gates', 'is', 'committed', 'to', 'tackling', 'malaria', 'and', 'aids', 'the', 'diseases', 'he', 'wants', 'to', 'fight', 'first', 'well', 'those', 'are', 'not', 'really', 'political', 'goals', 'so', 'maybe', 'he', 'does', 'it', 'very', 'consciously', 'he', 'slowly', 'gives', 'away', 'his', 'money', 'because', 'he', 'knows', 'that', 'his', 'assets', 'grow', 'faster', 'every', 'year', 'and', 'the', 'longer', 'he', 'waits', 'the', 'more', 'he', 'ends', 'up', 'to', 'those', 'charities', 'ok', 'there', 'are', 'some', 'dips', 'in', 'it', 'but', 'its', 'in', 'had', 'already', 'gone', 'from', 'to', 'billion', 'in', 'few', 'years', 'percent', 'growth', 'in', 'five', 'years', 'if', 'you', 'pull', 'that', 'through', 'bill', 'gates', 'would', 'be', 'over', 'have', 'billion', 'in', 'years', 'gates', 'is', 'in', 'his', 'he', 'wants', 'to', 'have', 'given', 'away', 'percent', 'of', 'all', 'his', 'money', 'at', 'the', 'end', 'of', 'his', 'life', 'and', 'that', 'amounts', 'to', 'billion', 'about', 'billion', 'remains', 'you', 'would', 'think', 'that', 'is', 'good', 'for', 'his', 'children', 'well', 'bill', 'thinks', 'otherwise', 'he', 'thinks', 'million', 'per', 'child', 'is', 'enough', 'because', 'they', 'dont', 'get', 'all', 'that', 'money', 'there', 'better', 'off']]\n"
    }
   ],
   "source": [
    "def sent_to_words(sentences):\n",
    "    for sentence in sentences:\n",
    "        yield(gensim.utils.simple_preprocess(str(sentence), deacc=True))  # deacc=True removes punctuations\n",
    "\n",
    "data_words = list(sent_to_words(data))\n",
    "\n",
    "print(data_words[:1])"
   ]
  },
  {
   "cell_type": "code",
   "execution_count": 22,
   "metadata": {
    "tags": []
   },
   "outputs": [
    {
     "output_type": "stream",
     "name": "stdout",
     "text": "['this', 'man', 'no', 'longer', 'has', 'title', 'that', 'of', 'the', 'richest_man', 'on', 'earth', 'and', 'bill', 'gates', 'has', 'it', 'all', 'for', 'himself', 'got', 'together', 'by', 'giving', 'money', 'away', 'he', 'would', 'prefer', 'to', 'do', 'that', 'much', 'more', 'but', 'he', 'cant', 'gates', 'was', 'the', 'richest_man', 'overtaken', 'by', 'the', 'amazon', 'ceo_jeff', 'bezos', 'he', 'got', 'few', 'billion', 'more', 'this', 'year', 'and', 'now', 'stands', 'at', 'about', 'billion', 'dollars', 'bill', 'gates', 'yes', 'he', 'did', 'just', 'that', 'little_bit', 'this', 'year', 'less', 'well', 'and', 'must', 'now', 'settle', 'for', 'the', 'second', 'place', 'thats', 'not', 'because', 'his', 'company', 'microsoft', 'is', 'doing', 'so', 'badly', 'or', 'because', 'he', 'made', 'bad', 'investment', 'no', 'its', 'because', 'gates', 'has', 'so', 'much', 'money', 'given', 'away', 'to', 'charities', 'he', 'gave', 'billion', 'this', 'year', 'own', 'charity', 'the', 'bill', 'and', 'melinda', 'gates', 'foundation', 'it', 'was', 'the', 'greatest', 'donation', 'of', 'the', 'century', 'for', 'comparison', 'the', 'netherlands', 'budgeted', 'billion', 'euros', 'for', 'development', 'aid', 'but', 'even', 'that', 'mega', 'gift', 'is', 'not', 'enough', 'to', 'keep', 'up', 'with', 'the', 'growth', 'of', 'his', 'assets', 'that', 'grew', 'by', 'billion', 'this', 'year', 'and', 'that', 'happened', 'much', 'more', 'often', 'in', 'he', 'gave', 'away', 'over', 'billion', 'then', 'his', 'wealth', 'went', 'up', 'by', 'billion', 'was', 'crazy', 'year', 'when', 'it', 'didnt', 'work', 'out', 'that', 'way', 'good', 'with', 'bills', 'money', 'but', 'also', 'in', 'and', 'gates', 'wealth', 'increased', 'faster', 'than', 'the', 'money', 'he', 'gave', 'to', 'charities', 'in', 'he', 'even', 'gave', 'meager', 'million', 'look', 'you', 'see', 'that', 'here', 'so', 'gates', 'ability', 'grows', 'faster', 'than', 'he', 'gives', 'it', 'away', 'there', 'are', 'few', 'small', 'dips', 'in', 'it', 'however', 'he', 'can', 'still', 'spend', 'so', 'much', 'on', 'charities', 'his', 'equity', 'grows', 'faster', 'you', 'could', 'say', 'it', 'might', 'be', 'good', 'thing', 'gates', 'doesnt', 'give', 'away', 'all', 'of', 'his', 'money', 'at', 'once', 'because', 'giving', 'more', 'money', 'away', 'also', 'gives', 'you', 'more', 'influence', 'in', 'the', 'world', 'for', 'example', 'super', 'investor', 'george_soros', 'is', 'investing', 'billions', 'in', 'promoting', 'democracy', 'and', 'fighting', 'intolerance', 'political', 'themes', 'he', 'finds', 'important', 'mark_zuckerberg', 'wants', 'to', 'be', 'the', 'majority', 'of', 'it', 'give', 'away', 'money', 'for', 'better', 'education', 'in', 'america', 'not', 'surprising', 'because', 'he', 'has', 'young', 'children', 'himself', 'and', 'bill', 'gates', 'is', 'committed', 'to', 'tackling', 'malaria', 'and', 'aids', 'the', 'diseases', 'he', 'wants', 'to', 'fight', 'first', 'well', 'those', 'are', 'not', 'really', 'political', 'goals', 'so', 'maybe', 'he', 'does', 'it', 'very', 'consciously', 'he', 'slowly', 'gives', 'away', 'his', 'money', 'because', 'he', 'knows', 'that', 'his', 'assets', 'grow', 'faster', 'every', 'year', 'and', 'the', 'longer', 'he', 'waits', 'the', 'more', 'he', 'ends', 'up', 'to', 'those', 'charities', 'ok', 'there', 'are', 'some', 'dips', 'in', 'it', 'but', 'its', 'in', 'had', 'already', 'gone', 'from', 'to', 'billion', 'in', 'few', 'years', 'percent', 'growth', 'in', 'five', 'years', 'if', 'you', 'pull', 'that', 'through', 'bill', 'gates', 'would', 'be', 'over', 'have', 'billion', 'in', 'years', 'gates', 'is', 'in', 'his', 'he', 'wants', 'to', 'have', 'given', 'away', 'percent', 'of', 'all', 'his', 'money', 'at', 'the', 'end', 'of', 'his', 'life', 'and', 'that', 'amounts', 'to', 'billion', 'about', 'billion', 'remains', 'you', 'would', 'think', 'that', 'is', 'good', 'for', 'his', 'children', 'well', 'bill', 'thinks', 'otherwise', 'he', 'thinks', 'million', 'per', 'child', 'is', 'enough', 'because', 'they', 'dont', 'get', 'all', 'that', 'money', 'there', 'better', 'off']\n"
    }
   ],
   "source": [
    "# Build the bigram and trigram models\n",
    "bigram = gensim.models.Phrases(data_words, min_count=5, threshold=100) # higher threshold fewer phrases.\n",
    "trigram = gensim.models.Phrases(bigram[data_words], threshold=100)  \n",
    "\n",
    "# Faster way to get a sentence clubbed as a trigram/bigram\n",
    "bigram_mod = gensim.models.phrases.Phraser(bigram)\n",
    "trigram_mod = gensim.models.phrases.Phraser(trigram)\n",
    "\n",
    "# See trigram example\n",
    "print(trigram_mod[bigram_mod[data_words[0]]])"
   ]
  },
  {
   "cell_type": "code",
   "execution_count": 23,
   "metadata": {},
   "outputs": [],
   "source": [
    "# Define functions for stopwords, bigrams, trigrams and lemmatization\n",
    "def remove_stopwords(texts):\n",
    "    return [[word for word in simple_preprocess(str(doc)) if word not in stop_words] for doc in texts]\n",
    "\n",
    "def make_bigrams(texts):\n",
    "    return [bigram_mod[doc] for doc in texts]\n",
    "\n",
    "def make_trigrams(texts):\n",
    "    return [trigram_mod[bigram_mod[doc]] for doc in texts]\n",
    "\n",
    "def lemmatization(texts, allowed_postags=['NOUN', 'ADJ', 'VERB', 'ADV']):\n",
    "    \"\"\"https://spacy.io/api/annotation\"\"\"\n",
    "    texts_out = []\n",
    "    for sent in texts:\n",
    "        doc = nlp(\" \".join(sent)) \n",
    "        texts_out.append([token.lemma_ for token in doc if token.pos_ in allowed_postags])\n",
    "    return texts_out"
   ]
  },
  {
   "cell_type": "code",
   "execution_count": 24,
   "metadata": {
    "tags": []
   },
   "outputs": [
    {
     "output_type": "stream",
     "name": "stdout",
     "text": "[['man', 'long', 'title', 'earth', 'gate', 'get', 'together', 'give', 'money', 'away', 'would', 'prefer', 'much', 'can', 'gate', 'get', 'year', 'stand', 'dollar', 'bill', 'gate', 'little_bit', 'year', 'less', 'well', 'must', 'settle', 'second', 'place', 's', 'company', 'badly', 'make', 'bad', 'investment', 'gate', 'much', 'money', 'give', 'charity', 'give', 'year', 'charity', 'great', 'donation', 'century', 'comparison', 'budget', 'euro', 'development', 'aid', 'even', 'mega', 'gift', 'enough', 'keep', 'growth', 'asset', 'grow', 'year', 'happen', 'much', 'often', 'give', 'away', 'wealth', 'go', 'crazy', 'year', 'work', 'way', 'good', 'bill', 'money', 'also', 'gate', 'wealth', 'increase', 'fast', 'money', 'give', 'charity', 'even', 'give', 'look', 'see', 'gate', 'ability', 'grow', 'fast', 'give', 'small', 'dip', 'however', 'still', 'spend', 'much', 'charity', 'equity', 'grow', 'fast', 'could', 'say', 'may', 'good', 'thing', 'gate', 'give', 'money', 'give', 'money', 'away', 'also', 'give', 'influence', 'world', 'example', 'super', 'investor', 'investing', 'billion', 'promote', 'democracy', 'fighting', 'intolerance', 'political', 'theme', 'find', 'important', 'want', 'majority', 'give', 'money', 'well', 'surprising', 'young', 'child', 'commit', 'tackling', 'malaria', 'disease', 'want', 'fight', 'first', 'really', 'political', 'goal', 'maybe', 'consciously', 'slowly', 'give', 'money', 'know', 'asset', 'grow', 'fast', 'year', 'long', 'wait', 'end', 'charity', 'dip', 'already', 'go', 'year', 'percent', 'growth', 'year', 'pull', 'bill', 'would', 'year', 'gate', 'want', 'give', 'percent', 'money', 'end', 'life', 'amount', 'remain', 'would', 'think', 'good', 'child', 'well', 'think', 'otherwise', 'think', 'child', 'enough', 'money', 'well']]\n"
    }
   ],
   "source": [
    "# Remove Stop Words\n",
    "data_words_nostops = remove_stopwords(data_words)\n",
    "\n",
    "# Form Bigrams\n",
    "data_words_bigrams = make_bigrams(data_words_nostops)\n",
    "\n",
    "# Initialize spacy 'en' model, keeping only tagger component (for efficiency)\n",
    "# python3 -m spacy download en\n",
    "nlp = spacy.load('en_core_web_sm', disable=['parser', 'ner'])\n",
    "\n",
    "# Do lemmatization keeping only noun, adj, vb, adv\n",
    "data_lemmatized = lemmatization(data_words_bigrams, allowed_postags=['NOUN', 'ADJ', 'VERB', 'ADV'])\n",
    "\n",
    "print(data_lemmatized[:1])"
   ]
  },
  {
   "cell_type": "code",
   "execution_count": 25,
   "metadata": {
    "tags": []
   },
   "outputs": [
    {
     "output_type": "stream",
     "name": "stdout",
     "text": "[[(0, 1), (1, 1), (2, 1), (3, 2), (4, 1), (5, 2), (6, 3), (7, 1), (8, 1), (9, 3), (10, 1), (11, 1), (12, 1), (13, 1), (14, 5), (15, 3), (16, 1), (17, 1), (18, 1), (19, 1), (20, 1), (21, 1), (22, 1), (23, 1), (24, 2), (25, 1), (26, 1), (27, 1), (28, 1), (29, 2), (30, 2), (31, 1), (32, 1), (33, 2), (34, 1), (35, 4), (36, 1), (37, 1), (38, 1), (39, 1), (40, 8), (41, 2), (42, 1), (43, 13), (44, 2), (45, 1), (46, 3), (47, 1), (48, 4), (49, 2), (50, 1), (51, 1), (52, 1), (53, 1), (54, 1), (55, 1), (56, 1), (57, 1), (58, 1), (59, 1), (60, 1), (61, 1), (62, 1), (63, 1), (64, 2), (65, 1), (66, 1), (67, 1), (68, 1), (69, 1), (70, 1), (71, 1), (72, 1), (73, 10), (74, 4), (75, 1), (76, 1), (77, 1), (78, 2), (79, 1), (80, 2), (81, 1), (82, 1), (83, 1), (84, 1), (85, 1), (86, 1), (87, 1), (88, 1), (89, 1), (90, 1), (91, 1), (92, 1), (93, 1), (94, 1), (95, 1), (96, 1), (97, 1), (98, 1), (99, 1), (100, 1), (101, 3), (102, 1), (103, 1), (104, 1), (105, 3), (106, 1), (107, 2), (108, 4), (109, 1), (110, 1), (111, 3), (112, 9), (113, 1)]]\n"
    }
   ],
   "source": [
    "# Create Dictionary\n",
    "id2word = corpora.Dictionary(data_lemmatized)\n",
    "\n",
    "# Create Corpus\n",
    "texts = data_lemmatized\n",
    "\n",
    "# Term Document Frequency\n",
    "corpus = [id2word.doc2bow(text) for text in texts]\n",
    "\n",
    "# View\n",
    "print(corpus[:1])"
   ]
  },
  {
   "cell_type": "code",
   "execution_count": 26,
   "metadata": {},
   "outputs": [],
   "source": [
    "# Build LDA model\n",
    "lda_model = gensim.models.ldamodel.LdaModel(corpus=corpus,\n",
    "                                           id2word=id2word,\n",
    "                                           num_topics=20, \n",
    "                                           random_state=100,\n",
    "                                           update_every=1,\n",
    "                                           chunksize=100,\n",
    "                                           passes=10,\n",
    "                                           alpha='auto',\n",
    "                                           per_word_topics=True)"
   ]
  },
  {
   "cell_type": "code",
   "execution_count": 27,
   "metadata": {
    "tags": []
   },
   "outputs": [
    {
     "output_type": "stream",
     "name": "stdout",
     "text": "[(0,\n  '0.036*\"gate\" + 0.024*\"vaccine\" + 0.016*\"global\" + 0.014*\"health\" + '\n  '0.014*\"world\" + 0.012*\"government\" + 0.009*\"public\" + 0.009*\"fund\" + '\n  '0.008*\"bill\" + 0.008*\"year\"'),\n (1,\n  '0.000*\"know\" + 0.000*\"go\" + 0.000*\"people\" + 0.000*\"thing\" + 0.000*\"lot\" + '\n  '0.000*\"much\" + 0.000*\"s\" + 0.000*\"make\" + 0.000*\"good\" + 0.000*\"see\"'),\n (2,\n  '0.041*\"alzheimer\" + 0.007*\"tier\" + 0.005*\"dementia\" + '\n  '0.004*\"categorization\" + 0.002*\"bike\" + 0.002*\"translation\" + '\n  '0.002*\"hans_rosling\" + 0.002*\"culminate\" + 0.002*\"statistician\" + '\n  '0.000*\"therein\"'),\n (3,\n  '0.015*\"epidemic\" + 0.011*\"virus\" + 0.009*\"vaccine\" + 0.008*\"gate\" + '\n  '0.008*\"thank\" + 0.008*\"say\" + 0.008*\"global\" + 0.008*\"already\" + '\n  '0.007*\"world\" + 0.007*\"next\"'),\n (4,\n  '0.041*\"ice\" + 0.035*\"suck\" + 0.015*\"drone\" + 0.007*\"holiday\" + '\n  '0.004*\"manifest\" + 0.004*\"sleeping\" + 0.003*\"meditation\" + '\n  '0.003*\"selection\" + 0.002*\"meditate\" + 0.001*\"manif\"'),\n (5,\n  '0.011*\"steam\" + 0.001*\"sin\" + 0.001*\"forgive\" + 0.000*\"sludge\" + '\n  '0.000*\"boil\" + 0.000*\"vapor\" + 0.000*\"ash\" + 0.000*\"gatesnote\" + '\n  '0.000*\"cleaning\" + 0.000*\"safe_sanitation\"'),\n (6,\n  '0.012*\"say\" + 0.011*\"also\" + 0.009*\"people\" + 0.009*\"want\" + 0.008*\"call\" + '\n  '0.008*\"system\" + 0.007*\"use\" + 0.006*\"many\" + 0.006*\"company\" + '\n  '0.006*\"come\"'),\n (7,\n  '0.000*\"people\" + 0.000*\"s\" + 0.000*\"get\" + 0.000*\"go\" + 0.000*\"good\" + '\n  '0.000*\"know\" + 0.000*\"make\" + 0.000*\"take\" + 0.000*\"really\" + 0.000*\"see\"'),\n (8,\n  '0.027*\"know\" + 0.026*\"people\" + 0.019*\"go\" + 0.016*\"vaccine\" + 0.015*\"test\" '\n  '+ 0.014*\"virus\" + 0.013*\"country\" + 0.011*\"time\" + 0.011*\"would\" + '\n  '0.010*\"right\"'),\n (9,\n  '0.000*\"would\" + 0.000*\"say\" + 0.000*\"vaccine\" + 0.000*\"get\" + 0.000*\"go\" + '\n  '0.000*\"know\" + 0.000*\"make\" + 0.000*\"time\" + 0.000*\"s\" + 0.000*\"want\"'),\n (10,\n  '0.021*\"go\" + 0.021*\"thing\" + 0.018*\"get\" + 0.016*\"people\" + 0.016*\"know\" + '\n  '0.015*\"think\" + 0.014*\"well\" + 0.013*\"work\" + 0.013*\"year\" + 0.012*\"make\"'),\n (11,\n  '0.037*\"downtown\" + 0.013*\"carbon\" + 0.008*\"dick\" + 0.007*\"concrete\" + '\n  '0.006*\"cement\" + 0.005*\"finished\" + 0.004*\"acre\" + 0.002*\"bake\" + '\n  '0.002*\"analogy\" + 0.002*\"bolt\"'),\n (12,\n  '0.006*\"vet\" + 0.000*\"iynane\" + 0.000*\"haethr\" + 0.000*\"aoue\" + '\n  '0.000*\"fseseauvent\" + 0.000*\"tonos\" + 0.000*\"srile\" + 0.000*\"osofely\" + '\n  '0.000*\"odo\" + 0.000*\"itrapu\"'),\n (13,\n  '0.002*\"jewish\" + 0.000*\"testifie\" + 0.000*\"psalm\" + 0.000*\"singe\" + '\n  '0.000*\"biblical\" + 0.000*\"priest\" + 0.000*\"cowboy\" + 0.000*\"polite\" + '\n  '0.000*\"speeding\" + 0.000*\"trainer\"'),\n (14,\n  '0.076*\"water\" + 0.031*\"waste\" + 0.031*\"toilet\" + 0.029*\"possible\" + '\n  '0.029*\"energy\" + 0.023*\"burn\" + 0.021*\"solid\" + 0.021*\"solar\" + '\n  '0.020*\"heat\" + 0.019*\"flush\"'),\n (15,\n  '0.021*\"ball\" + 0.014*\"degenere\" + 0.013*\"scratch\" + 0.012*\"ass\" + '\n  '0.010*\"brush\" + 0.006*\"coach\" + 0.006*\"ellen\" + 0.005*\"tennis\" + '\n  '0.004*\"nominate\" + 0.004*\"giggle\"'),\n (16,\n  '0.020*\"go\" + 0.018*\"people\" + 0.014*\"make\" + 0.013*\"know\" + 0.013*\"s\" + '\n  '0.012*\"thing\" + 0.012*\"be\" + 0.011*\"get\" + 0.011*\"think\" + 0.010*\"see\"'),\n (17,\n  '0.096*\"toilet\" + 0.031*\"reinvent\" + 0.013*\"sanitation\" + 0.008*\"sewer\" + '\n  '0.003*\"durban\" + 0.002*\"latrine\" + 0.000*\"poop\" + 0.000*\"fece\" + '\n  '0.000*\"waste\" + 0.000*\"oppress\"'),\n (18,\n  '0.000*\"go\" + 0.000*\"think\" + 0.000*\"thing\" + 0.000*\"know\" + 0.000*\"say\" + '\n  '0.000*\"make\" + 0.000*\"really\" + 0.000*\"come\" + 0.000*\"s\" + 0.000*\"get\"'),\n (19,\n  '0.074*\"gate\" + 0.049*\"bill\" + 0.025*\"computer\" + 0.017*\"billionaire\" + '\n  '0.016*\"money\" + 0.016*\"become\" + 0.015*\"rich\" + 0.014*\"dollar\" + '\n  '0.014*\"company\" + 0.013*\"also\"')]\n"
    }
   ],
   "source": [
    "pprint(lda_model.print_topics())\n",
    "doc_lda = lda_model[corpus]"
   ]
  },
  {
   "cell_type": "code",
   "execution_count": 28,
   "metadata": {
    "tags": []
   },
   "outputs": [
    {
     "output_type": "stream",
     "name": "stdout",
     "text": "\nPerplexity:  -8.618061259053622\n\nCoherence Score:  0.39822169412765795\n"
    }
   ],
   "source": [
    "# Compute Perplexity\n",
    "print('\\nPerplexity: ', lda_model.log_perplexity(corpus))  # a measure of how good the model is. lower the better.\n",
    "\n",
    "# Compute Coherence Score\n",
    "coherence_model_lda = CoherenceModel(model=lda_model, texts=data_lemmatized, dictionary=id2word, coherence='c_v')\n",
    "coherence_lda = coherence_model_lda.get_coherence()\n",
    "print('\\nCoherence Score: ', coherence_lda)"
   ]
  },
  {
   "cell_type": "code",
   "execution_count": 29,
   "metadata": {},
   "outputs": [],
   "source": [
    "from gensim.models.wrappers import LdaMallet\n",
    "mallet_path = 'C:/mallet-2.0.8/bin/mallet' \n",
    "\n",
    "\n",
    "ldamallet = gensim.models.wrappers.LdaMallet(mallet_path, corpus=corpus, num_topics=10, id2word=id2word)"
   ]
  },
  {
   "cell_type": "code",
   "execution_count": 30,
   "metadata": {
    "tags": []
   },
   "outputs": [
    {
     "output_type": "stream",
     "name": "stdout",
     "text": "[(0,\n  [('vaccine', 0.056551985234962854),\n   ('gate', 0.02394586153045289),\n   ('global', 0.02072784061331693),\n   ('health', 0.018645591784581896),\n   ('fund', 0.014575741801145237),\n   ('public', 0.012067578439259855),\n   ('foundation', 0.011215749372959159),\n   ('government', 0.011026454024892338),\n   ('world', 0.010837158676825517),\n   ('develop', 0.01060053949174199)]),\n (1,\n  [('year', 0.04366543665436654),\n   ('make', 0.03905289052890529),\n   ('work', 0.032656826568265684),\n   ('money', 0.027982779827798277),\n   ('people', 0.02730627306273063),\n   ('kid', 0.01968019680196802),\n   ('child', 0.01845018450184502),\n   ('thing', 0.015006150061500615),\n   ('world', 0.014698646986469865),\n   ('big', 0.014575645756457565)]),\n (2,\n  [('control', 0.014519650655021834),\n   ('gate', 0.013700873362445415),\n   ('population', 0.012718340611353712),\n   ('system', 0.012718340611353712),\n   ('government', 0.012718340611353712),\n   ('child', 0.011844978165938864),\n   ('people', 0.009716157205240175),\n   ('digital', 0.008624454148471615),\n   ('world', 0.008624454148471615),\n   ('call', 0.007587336244541484)]),\n (3,\n  [('people', 0.0367050151899995),\n   ('make', 0.020369540315752777),\n   ('life', 0.014791573285522188),\n   ('world', 0.013695901190298322),\n   ('good', 0.012301409432740674),\n   ('learn', 0.010110065242292942),\n   ('live', 0.010010458688181682),\n   ('problem', 0.009163802978235968),\n   ('time', 0.008516360376512775),\n   ('find', 0.00761990138951143)]),\n (4,\n  [('thing', 0.03329199656586855),\n   ('company', 0.022321854430983498),\n   ('software', 0.018840026709911285),\n   ('people', 0.01879233043975961),\n   ('work', 0.018696937899456263),\n   ('computer', 0.016502909472479253),\n   ('make', 0.013736525803682152),\n   ('year', 0.011924067537918534),\n   ('lot', 0.011828674997615186),\n   ('good', 0.010779357054278356)]),\n (5,\n  [('virus', 0.01927057312111912),\n   ('people', 0.01919920062807794),\n   ('world', 0.017629005781171936),\n   ('make', 0.012561558775248019),\n   ('system', 0.0118478338448362),\n   ('human', 0.011205481407465563),\n   ('epidemic', 0.010277638997930197),\n   ('energy', 0.010063521518806653),\n   ('kill', 0.008850189137106558),\n   ('water', 0.008707444151024195)]),\n (6,\n  [('people', 0.041467670830271856),\n   ('thing', 0.018368846436443792),\n   ('country', 0.017037105069801616),\n   ('test', 0.016669728141072742),\n   ('time', 0.014419544452608376),\n   ('vaccine', 0.013776634827332844),\n   ('lot', 0.013684790595150624),\n   ('work', 0.012674504041146216),\n   ('number', 0.012398971344599559),\n   ('back', 0.010791697281410727)]),\n (7,\n  [('gate', 0.06500247157686605),\n   ('bill', 0.03942165101334651),\n   ('world', 0.013964409293129016),\n   ('money', 0.011431043005437468),\n   ('billionaire', 0.01050420168067227),\n   ('dollar', 0.010195254572417203),\n   ('rich', 0.010195254572417203),\n   ('man', 0.009824518042511122),\n   ('pay', 0.008897676717745922),\n   ('large', 0.008403361344537815)]),\n (8,\n  [('thing', 0.03569895829269244),\n   ('lot', 0.0159572392805587),\n   ('good', 0.01576216300573524),\n   ('country', 0.013148140923100932),\n   ('people', 0.012875034138348094),\n   ('problem', 0.0088564628769849),\n   ('education', 0.008700401857126136),\n   ('work', 0.008505325582302681),\n   ('term', 0.008349264562443916),\n   ('level', 0.008076157777691077)]),\n (9,\n  [('time', 0.02424823113207547),\n   ('video', 0.019899764150943397),\n   ('book', 0.014003537735849057),\n   ('start', 0.012234669811320755),\n   ('read', 0.01179245283018868),\n   ('day', 0.010318396226415094),\n   ('fact', 0.009655070754716982),\n   ('play', 0.008623231132075472),\n   ('life', 0.008107311320754717),\n   ('trump', 0.007443985849056604)])]\n\nCoherence Score:  0.3675462668243998\n"
    }
   ],
   "source": [
    "# Show Topics\n",
    "pprint(ldamallet.show_topics(formatted=False))\n",
    "\n",
    "# Compute Coherence Score\n",
    "coherence_model_ldamallet = CoherenceModel(model=ldamallet, texts=data_lemmatized, dictionary=id2word, coherence='c_v')\n",
    "coherence_ldamallet = coherence_model_ldamallet.get_coherence()\n",
    "print('\\nCoherence Score: ', coherence_ldamallet)\n"
   ]
  },
  {
   "cell_type": "code",
   "execution_count": 32,
   "metadata": {},
   "outputs": [],
   "source": [
    "def compute_coherence_values(dictionary, corpus, texts, limit, start=2, step=3):\n",
    "    \"\"\"\n",
    "    Compute c_v coherence for various number of topics\n",
    "\n",
    "    Parameters:\n",
    "    ----------\n",
    "    dictionary : Gensim dictionary\n",
    "    corpus : Gensim corpus\n",
    "    texts : List of input texts\n",
    "    limit : Max num of topics\n",
    "\n",
    "    Returns:\n",
    "    -------\n",
    "    model_list : List of LDA topic models\n",
    "    coherence_values : Coherence values corresponding to the LDA model with respective number of topics\n",
    "    \"\"\"\n",
    "    coherence_values = []\n",
    "    model_list = []\n",
    "    for num_topics in range(start, limit, step):\n",
    "        model = gensim.models.wrappers.LdaMallet(mallet_path, corpus=corpus, num_topics=num_topics, id2word=id2word)\n",
    "        model_list.append(model)\n",
    "        coherencemodel = CoherenceModel(model=model, texts=texts, dictionary=dictionary, coherence='c_v')\n",
    "        coherence_values.append(coherencemodel.get_coherence())\n",
    "\n",
    "    return model_list, coherence_values"
   ]
  },
  {
   "cell_type": "code",
   "execution_count": 33,
   "metadata": {},
   "outputs": [],
   "source": [
    "# Can take a long time to run.\n",
    "model_list, coherence_values = compute_coherence_values(dictionary=id2word, corpus=corpus, texts=data_lemmatized, start=2, limit=40, step=6)\n"
   ]
  },
  {
   "cell_type": "code",
   "execution_count": 34,
   "metadata": {},
   "outputs": [
    {
     "output_type": "display_data",
     "data": {
      "text/plain": "<Figure size 432x288 with 1 Axes>",
      "image/svg+xml": "<?xml version=\"1.0\" encoding=\"utf-8\" standalone=\"no\"?>\r\n<!DOCTYPE svg PUBLIC \"-//W3C//DTD SVG 1.1//EN\"\r\n  \"http://www.w3.org/Graphics/SVG/1.1/DTD/svg11.dtd\">\r\n<!-- Created with matplotlib (https://matplotlib.org/) -->\r\n<svg height=\"262.19625pt\" version=\"1.1\" viewBox=\"0 0 392.14375 262.19625\" width=\"392.14375pt\" xmlns=\"http://www.w3.org/2000/svg\" xmlns:xlink=\"http://www.w3.org/1999/xlink\">\r\n <defs>\r\n  <style type=\"text/css\">\r\n*{stroke-linecap:butt;stroke-linejoin:round;}\r\n  </style>\r\n </defs>\r\n <g id=\"figure_1\">\r\n  <g id=\"patch_1\">\r\n   <path d=\"M 0 262.19625 \r\nL 392.14375 262.19625 \r\nL 392.14375 0 \r\nL 0 0 \r\nz\r\n\" style=\"fill:none;\"/>\r\n  </g>\r\n  <g id=\"axes_1\">\r\n   <g id=\"patch_2\">\r\n    <path d=\"M 50.14375 224.64 \r\nL 384.94375 224.64 \r\nL 384.94375 7.2 \r\nL 50.14375 7.2 \r\nz\r\n\" style=\"fill:#ffffff;\"/>\r\n   </g>\r\n   <g id=\"matplotlib.axis_1\">\r\n    <g id=\"xtick_1\">\r\n     <g id=\"line2d_1\">\r\n      <defs>\r\n       <path d=\"M 0 0 \r\nL 0 3.5 \r\n\" id=\"m37896f777b\" style=\"stroke:#000000;stroke-width:0.8;\"/>\r\n      </defs>\r\n      <g>\r\n       <use style=\"stroke:#000000;stroke-width:0.8;\" x=\"90.725568\" xlink:href=\"#m37896f777b\" y=\"224.64\"/>\r\n      </g>\r\n     </g>\r\n     <g id=\"text_1\">\r\n      <!-- 5 -->\r\n      <defs>\r\n       <path d=\"M 10.796875 72.90625 \r\nL 49.515625 72.90625 \r\nL 49.515625 64.59375 \r\nL 19.828125 64.59375 \r\nL 19.828125 46.734375 \r\nQ 21.96875 47.46875 24.109375 47.828125 \r\nQ 26.265625 48.1875 28.421875 48.1875 \r\nQ 40.625 48.1875 47.75 41.5 \r\nQ 54.890625 34.8125 54.890625 23.390625 \r\nQ 54.890625 11.625 47.5625 5.09375 \r\nQ 40.234375 -1.421875 26.90625 -1.421875 \r\nQ 22.3125 -1.421875 17.546875 -0.640625 \r\nQ 12.796875 0.140625 7.71875 1.703125 \r\nL 7.71875 11.625 \r\nQ 12.109375 9.234375 16.796875 8.0625 \r\nQ 21.484375 6.890625 26.703125 6.890625 \r\nQ 35.15625 6.890625 40.078125 11.328125 \r\nQ 45.015625 15.765625 45.015625 23.390625 \r\nQ 45.015625 31 40.078125 35.4375 \r\nQ 35.15625 39.890625 26.703125 39.890625 \r\nQ 22.75 39.890625 18.8125 39.015625 \r\nQ 14.890625 38.140625 10.796875 36.28125 \r\nz\r\n\" id=\"DejaVuSans-53\"/>\r\n      </defs>\r\n      <g transform=\"translate(87.544318 239.238438)scale(0.1 -0.1)\">\r\n       <use xlink:href=\"#DejaVuSans-53\"/>\r\n      </g>\r\n     </g>\r\n    </g>\r\n    <g id=\"xtick_2\">\r\n     <g id=\"line2d_2\">\r\n      <g>\r\n       <use style=\"stroke:#000000;stroke-width:0.8;\" x=\"132.998295\" xlink:href=\"#m37896f777b\" y=\"224.64\"/>\r\n      </g>\r\n     </g>\r\n     <g id=\"text_2\">\r\n      <!-- 10 -->\r\n      <defs>\r\n       <path d=\"M 12.40625 8.296875 \r\nL 28.515625 8.296875 \r\nL 28.515625 63.921875 \r\nL 10.984375 60.40625 \r\nL 10.984375 69.390625 \r\nL 28.421875 72.90625 \r\nL 38.28125 72.90625 \r\nL 38.28125 8.296875 \r\nL 54.390625 8.296875 \r\nL 54.390625 0 \r\nL 12.40625 0 \r\nz\r\n\" id=\"DejaVuSans-49\"/>\r\n       <path d=\"M 31.78125 66.40625 \r\nQ 24.171875 66.40625 20.328125 58.90625 \r\nQ 16.5 51.421875 16.5 36.375 \r\nQ 16.5 21.390625 20.328125 13.890625 \r\nQ 24.171875 6.390625 31.78125 6.390625 \r\nQ 39.453125 6.390625 43.28125 13.890625 \r\nQ 47.125 21.390625 47.125 36.375 \r\nQ 47.125 51.421875 43.28125 58.90625 \r\nQ 39.453125 66.40625 31.78125 66.40625 \r\nz\r\nM 31.78125 74.21875 \r\nQ 44.046875 74.21875 50.515625 64.515625 \r\nQ 56.984375 54.828125 56.984375 36.375 \r\nQ 56.984375 17.96875 50.515625 8.265625 \r\nQ 44.046875 -1.421875 31.78125 -1.421875 \r\nQ 19.53125 -1.421875 13.0625 8.265625 \r\nQ 6.59375 17.96875 6.59375 36.375 \r\nQ 6.59375 54.828125 13.0625 64.515625 \r\nQ 19.53125 74.21875 31.78125 74.21875 \r\nz\r\n\" id=\"DejaVuSans-48\"/>\r\n      </defs>\r\n      <g transform=\"translate(126.635795 239.238438)scale(0.1 -0.1)\">\r\n       <use xlink:href=\"#DejaVuSans-49\"/>\r\n       <use x=\"63.623047\" xlink:href=\"#DejaVuSans-48\"/>\r\n      </g>\r\n     </g>\r\n    </g>\r\n    <g id=\"xtick_3\">\r\n     <g id=\"line2d_3\">\r\n      <g>\r\n       <use style=\"stroke:#000000;stroke-width:0.8;\" x=\"175.271023\" xlink:href=\"#m37896f777b\" y=\"224.64\"/>\r\n      </g>\r\n     </g>\r\n     <g id=\"text_3\">\r\n      <!-- 15 -->\r\n      <g transform=\"translate(168.908523 239.238438)scale(0.1 -0.1)\">\r\n       <use xlink:href=\"#DejaVuSans-49\"/>\r\n       <use x=\"63.623047\" xlink:href=\"#DejaVuSans-53\"/>\r\n      </g>\r\n     </g>\r\n    </g>\r\n    <g id=\"xtick_4\">\r\n     <g id=\"line2d_4\">\r\n      <g>\r\n       <use style=\"stroke:#000000;stroke-width:0.8;\" x=\"217.54375\" xlink:href=\"#m37896f777b\" y=\"224.64\"/>\r\n      </g>\r\n     </g>\r\n     <g id=\"text_4\">\r\n      <!-- 20 -->\r\n      <defs>\r\n       <path d=\"M 19.1875 8.296875 \r\nL 53.609375 8.296875 \r\nL 53.609375 0 \r\nL 7.328125 0 \r\nL 7.328125 8.296875 \r\nQ 12.9375 14.109375 22.625 23.890625 \r\nQ 32.328125 33.6875 34.8125 36.53125 \r\nQ 39.546875 41.84375 41.421875 45.53125 \r\nQ 43.3125 49.21875 43.3125 52.78125 \r\nQ 43.3125 58.59375 39.234375 62.25 \r\nQ 35.15625 65.921875 28.609375 65.921875 \r\nQ 23.96875 65.921875 18.8125 64.3125 \r\nQ 13.671875 62.703125 7.8125 59.421875 \r\nL 7.8125 69.390625 \r\nQ 13.765625 71.78125 18.9375 73 \r\nQ 24.125 74.21875 28.421875 74.21875 \r\nQ 39.75 74.21875 46.484375 68.546875 \r\nQ 53.21875 62.890625 53.21875 53.421875 \r\nQ 53.21875 48.921875 51.53125 44.890625 \r\nQ 49.859375 40.875 45.40625 35.40625 \r\nQ 44.1875 33.984375 37.640625 27.21875 \r\nQ 31.109375 20.453125 19.1875 8.296875 \r\nz\r\n\" id=\"DejaVuSans-50\"/>\r\n      </defs>\r\n      <g transform=\"translate(211.18125 239.238438)scale(0.1 -0.1)\">\r\n       <use xlink:href=\"#DejaVuSans-50\"/>\r\n       <use x=\"63.623047\" xlink:href=\"#DejaVuSans-48\"/>\r\n      </g>\r\n     </g>\r\n    </g>\r\n    <g id=\"xtick_5\">\r\n     <g id=\"line2d_5\">\r\n      <g>\r\n       <use style=\"stroke:#000000;stroke-width:0.8;\" x=\"259.816477\" xlink:href=\"#m37896f777b\" y=\"224.64\"/>\r\n      </g>\r\n     </g>\r\n     <g id=\"text_5\">\r\n      <!-- 25 -->\r\n      <g transform=\"translate(253.453977 239.238438)scale(0.1 -0.1)\">\r\n       <use xlink:href=\"#DejaVuSans-50\"/>\r\n       <use x=\"63.623047\" xlink:href=\"#DejaVuSans-53\"/>\r\n      </g>\r\n     </g>\r\n    </g>\r\n    <g id=\"xtick_6\">\r\n     <g id=\"line2d_6\">\r\n      <g>\r\n       <use style=\"stroke:#000000;stroke-width:0.8;\" x=\"302.089205\" xlink:href=\"#m37896f777b\" y=\"224.64\"/>\r\n      </g>\r\n     </g>\r\n     <g id=\"text_6\">\r\n      <!-- 30 -->\r\n      <defs>\r\n       <path d=\"M 40.578125 39.3125 \r\nQ 47.65625 37.796875 51.625 33 \r\nQ 55.609375 28.21875 55.609375 21.1875 \r\nQ 55.609375 10.40625 48.1875 4.484375 \r\nQ 40.765625 -1.421875 27.09375 -1.421875 \r\nQ 22.515625 -1.421875 17.65625 -0.515625 \r\nQ 12.796875 0.390625 7.625 2.203125 \r\nL 7.625 11.71875 \r\nQ 11.71875 9.328125 16.59375 8.109375 \r\nQ 21.484375 6.890625 26.8125 6.890625 \r\nQ 36.078125 6.890625 40.9375 10.546875 \r\nQ 45.796875 14.203125 45.796875 21.1875 \r\nQ 45.796875 27.640625 41.28125 31.265625 \r\nQ 36.765625 34.90625 28.71875 34.90625 \r\nL 20.21875 34.90625 \r\nL 20.21875 43.015625 \r\nL 29.109375 43.015625 \r\nQ 36.375 43.015625 40.234375 45.921875 \r\nQ 44.09375 48.828125 44.09375 54.296875 \r\nQ 44.09375 59.90625 40.109375 62.90625 \r\nQ 36.140625 65.921875 28.71875 65.921875 \r\nQ 24.65625 65.921875 20.015625 65.03125 \r\nQ 15.375 64.15625 9.8125 62.3125 \r\nL 9.8125 71.09375 \r\nQ 15.4375 72.65625 20.34375 73.4375 \r\nQ 25.25 74.21875 29.59375 74.21875 \r\nQ 40.828125 74.21875 47.359375 69.109375 \r\nQ 53.90625 64.015625 53.90625 55.328125 \r\nQ 53.90625 49.265625 50.4375 45.09375 \r\nQ 46.96875 40.921875 40.578125 39.3125 \r\nz\r\n\" id=\"DejaVuSans-51\"/>\r\n      </defs>\r\n      <g transform=\"translate(295.726705 239.238438)scale(0.1 -0.1)\">\r\n       <use xlink:href=\"#DejaVuSans-51\"/>\r\n       <use x=\"63.623047\" xlink:href=\"#DejaVuSans-48\"/>\r\n      </g>\r\n     </g>\r\n    </g>\r\n    <g id=\"xtick_7\">\r\n     <g id=\"line2d_7\">\r\n      <g>\r\n       <use style=\"stroke:#000000;stroke-width:0.8;\" x=\"344.361932\" xlink:href=\"#m37896f777b\" y=\"224.64\"/>\r\n      </g>\r\n     </g>\r\n     <g id=\"text_7\">\r\n      <!-- 35 -->\r\n      <g transform=\"translate(337.999432 239.238438)scale(0.1 -0.1)\">\r\n       <use xlink:href=\"#DejaVuSans-51\"/>\r\n       <use x=\"63.623047\" xlink:href=\"#DejaVuSans-53\"/>\r\n      </g>\r\n     </g>\r\n    </g>\r\n    <g id=\"text_8\">\r\n     <!-- Num Topics -->\r\n     <defs>\r\n      <path d=\"M 9.8125 72.90625 \r\nL 23.09375 72.90625 \r\nL 55.421875 11.921875 \r\nL 55.421875 72.90625 \r\nL 64.984375 72.90625 \r\nL 64.984375 0 \r\nL 51.703125 0 \r\nL 19.390625 60.984375 \r\nL 19.390625 0 \r\nL 9.8125 0 \r\nz\r\n\" id=\"DejaVuSans-78\"/>\r\n      <path d=\"M 8.5 21.578125 \r\nL 8.5 54.6875 \r\nL 17.484375 54.6875 \r\nL 17.484375 21.921875 \r\nQ 17.484375 14.15625 20.5 10.265625 \r\nQ 23.53125 6.390625 29.59375 6.390625 \r\nQ 36.859375 6.390625 41.078125 11.03125 \r\nQ 45.3125 15.671875 45.3125 23.6875 \r\nL 45.3125 54.6875 \r\nL 54.296875 54.6875 \r\nL 54.296875 0 \r\nL 45.3125 0 \r\nL 45.3125 8.40625 \r\nQ 42.046875 3.421875 37.71875 1 \r\nQ 33.40625 -1.421875 27.6875 -1.421875 \r\nQ 18.265625 -1.421875 13.375 4.4375 \r\nQ 8.5 10.296875 8.5 21.578125 \r\nz\r\nM 31.109375 56 \r\nz\r\n\" id=\"DejaVuSans-117\"/>\r\n      <path d=\"M 52 44.1875 \r\nQ 55.375 50.25 60.0625 53.125 \r\nQ 64.75 56 71.09375 56 \r\nQ 79.640625 56 84.28125 50.015625 \r\nQ 88.921875 44.046875 88.921875 33.015625 \r\nL 88.921875 0 \r\nL 79.890625 0 \r\nL 79.890625 32.71875 \r\nQ 79.890625 40.578125 77.09375 44.375 \r\nQ 74.3125 48.1875 68.609375 48.1875 \r\nQ 61.625 48.1875 57.5625 43.546875 \r\nQ 53.515625 38.921875 53.515625 30.90625 \r\nL 53.515625 0 \r\nL 44.484375 0 \r\nL 44.484375 32.71875 \r\nQ 44.484375 40.625 41.703125 44.40625 \r\nQ 38.921875 48.1875 33.109375 48.1875 \r\nQ 26.21875 48.1875 22.15625 43.53125 \r\nQ 18.109375 38.875 18.109375 30.90625 \r\nL 18.109375 0 \r\nL 9.078125 0 \r\nL 9.078125 54.6875 \r\nL 18.109375 54.6875 \r\nL 18.109375 46.1875 \r\nQ 21.1875 51.21875 25.484375 53.609375 \r\nQ 29.78125 56 35.6875 56 \r\nQ 41.65625 56 45.828125 52.96875 \r\nQ 50 49.953125 52 44.1875 \r\nz\r\n\" id=\"DejaVuSans-109\"/>\r\n      <path id=\"DejaVuSans-32\"/>\r\n      <path d=\"M -0.296875 72.90625 \r\nL 61.375 72.90625 \r\nL 61.375 64.59375 \r\nL 35.5 64.59375 \r\nL 35.5 0 \r\nL 25.59375 0 \r\nL 25.59375 64.59375 \r\nL -0.296875 64.59375 \r\nz\r\n\" id=\"DejaVuSans-84\"/>\r\n      <path d=\"M 30.609375 48.390625 \r\nQ 23.390625 48.390625 19.1875 42.75 \r\nQ 14.984375 37.109375 14.984375 27.296875 \r\nQ 14.984375 17.484375 19.15625 11.84375 \r\nQ 23.34375 6.203125 30.609375 6.203125 \r\nQ 37.796875 6.203125 41.984375 11.859375 \r\nQ 46.1875 17.53125 46.1875 27.296875 \r\nQ 46.1875 37.015625 41.984375 42.703125 \r\nQ 37.796875 48.390625 30.609375 48.390625 \r\nz\r\nM 30.609375 56 \r\nQ 42.328125 56 49.015625 48.375 \r\nQ 55.71875 40.765625 55.71875 27.296875 \r\nQ 55.71875 13.875 49.015625 6.21875 \r\nQ 42.328125 -1.421875 30.609375 -1.421875 \r\nQ 18.84375 -1.421875 12.171875 6.21875 \r\nQ 5.515625 13.875 5.515625 27.296875 \r\nQ 5.515625 40.765625 12.171875 48.375 \r\nQ 18.84375 56 30.609375 56 \r\nz\r\n\" id=\"DejaVuSans-111\"/>\r\n      <path d=\"M 18.109375 8.203125 \r\nL 18.109375 -20.796875 \r\nL 9.078125 -20.796875 \r\nL 9.078125 54.6875 \r\nL 18.109375 54.6875 \r\nL 18.109375 46.390625 \r\nQ 20.953125 51.265625 25.265625 53.625 \r\nQ 29.59375 56 35.59375 56 \r\nQ 45.5625 56 51.78125 48.09375 \r\nQ 58.015625 40.1875 58.015625 27.296875 \r\nQ 58.015625 14.40625 51.78125 6.484375 \r\nQ 45.5625 -1.421875 35.59375 -1.421875 \r\nQ 29.59375 -1.421875 25.265625 0.953125 \r\nQ 20.953125 3.328125 18.109375 8.203125 \r\nz\r\nM 48.6875 27.296875 \r\nQ 48.6875 37.203125 44.609375 42.84375 \r\nQ 40.53125 48.484375 33.40625 48.484375 \r\nQ 26.265625 48.484375 22.1875 42.84375 \r\nQ 18.109375 37.203125 18.109375 27.296875 \r\nQ 18.109375 17.390625 22.1875 11.75 \r\nQ 26.265625 6.109375 33.40625 6.109375 \r\nQ 40.53125 6.109375 44.609375 11.75 \r\nQ 48.6875 17.390625 48.6875 27.296875 \r\nz\r\n\" id=\"DejaVuSans-112\"/>\r\n      <path d=\"M 9.421875 54.6875 \r\nL 18.40625 54.6875 \r\nL 18.40625 0 \r\nL 9.421875 0 \r\nz\r\nM 9.421875 75.984375 \r\nL 18.40625 75.984375 \r\nL 18.40625 64.59375 \r\nL 9.421875 64.59375 \r\nz\r\n\" id=\"DejaVuSans-105\"/>\r\n      <path d=\"M 48.78125 52.59375 \r\nL 48.78125 44.1875 \r\nQ 44.96875 46.296875 41.140625 47.34375 \r\nQ 37.3125 48.390625 33.40625 48.390625 \r\nQ 24.65625 48.390625 19.8125 42.84375 \r\nQ 14.984375 37.3125 14.984375 27.296875 \r\nQ 14.984375 17.28125 19.8125 11.734375 \r\nQ 24.65625 6.203125 33.40625 6.203125 \r\nQ 37.3125 6.203125 41.140625 7.25 \r\nQ 44.96875 8.296875 48.78125 10.40625 \r\nL 48.78125 2.09375 \r\nQ 45.015625 0.34375 40.984375 -0.53125 \r\nQ 36.96875 -1.421875 32.421875 -1.421875 \r\nQ 20.0625 -1.421875 12.78125 6.34375 \r\nQ 5.515625 14.109375 5.515625 27.296875 \r\nQ 5.515625 40.671875 12.859375 48.328125 \r\nQ 20.21875 56 33.015625 56 \r\nQ 37.15625 56 41.109375 55.140625 \r\nQ 45.0625 54.296875 48.78125 52.59375 \r\nz\r\n\" id=\"DejaVuSans-99\"/>\r\n      <path d=\"M 44.28125 53.078125 \r\nL 44.28125 44.578125 \r\nQ 40.484375 46.53125 36.375 47.5 \r\nQ 32.28125 48.484375 27.875 48.484375 \r\nQ 21.1875 48.484375 17.84375 46.4375 \r\nQ 14.5 44.390625 14.5 40.28125 \r\nQ 14.5 37.15625 16.890625 35.375 \r\nQ 19.28125 33.59375 26.515625 31.984375 \r\nL 29.59375 31.296875 \r\nQ 39.15625 29.25 43.1875 25.515625 \r\nQ 47.21875 21.78125 47.21875 15.09375 \r\nQ 47.21875 7.46875 41.1875 3.015625 \r\nQ 35.15625 -1.421875 24.609375 -1.421875 \r\nQ 20.21875 -1.421875 15.453125 -0.5625 \r\nQ 10.6875 0.296875 5.421875 2 \r\nL 5.421875 11.28125 \r\nQ 10.40625 8.6875 15.234375 7.390625 \r\nQ 20.0625 6.109375 24.8125 6.109375 \r\nQ 31.15625 6.109375 34.5625 8.28125 \r\nQ 37.984375 10.453125 37.984375 14.40625 \r\nQ 37.984375 18.0625 35.515625 20.015625 \r\nQ 33.0625 21.96875 24.703125 23.78125 \r\nL 21.578125 24.515625 \r\nQ 13.234375 26.265625 9.515625 29.90625 \r\nQ 5.8125 33.546875 5.8125 39.890625 \r\nQ 5.8125 47.609375 11.28125 51.796875 \r\nQ 16.75 56 26.8125 56 \r\nQ 31.78125 56 36.171875 55.265625 \r\nQ 40.578125 54.546875 44.28125 53.078125 \r\nz\r\n\" id=\"DejaVuSans-115\"/>\r\n     </defs>\r\n     <g transform=\"translate(188.157813 252.916563)scale(0.1 -0.1)\">\r\n      <use xlink:href=\"#DejaVuSans-78\"/>\r\n      <use x=\"74.804688\" xlink:href=\"#DejaVuSans-117\"/>\r\n      <use x=\"138.183594\" xlink:href=\"#DejaVuSans-109\"/>\r\n      <use x=\"235.595703\" xlink:href=\"#DejaVuSans-32\"/>\r\n      <use x=\"267.382812\" xlink:href=\"#DejaVuSans-84\"/>\r\n      <use x=\"328.201172\" xlink:href=\"#DejaVuSans-111\"/>\r\n      <use x=\"389.382812\" xlink:href=\"#DejaVuSans-112\"/>\r\n      <use x=\"452.859375\" xlink:href=\"#DejaVuSans-105\"/>\r\n      <use x=\"480.642578\" xlink:href=\"#DejaVuSans-99\"/>\r\n      <use x=\"535.623047\" xlink:href=\"#DejaVuSans-115\"/>\r\n     </g>\r\n    </g>\r\n   </g>\r\n   <g id=\"matplotlib.axis_2\">\r\n    <g id=\"ytick_1\">\r\n     <g id=\"line2d_8\">\r\n      <defs>\r\n       <path d=\"M 0 0 \r\nL -3.5 0 \r\n\" id=\"m1631a61b57\" style=\"stroke:#000000;stroke-width:0.8;\"/>\r\n      </defs>\r\n      <g>\r\n       <use style=\"stroke:#000000;stroke-width:0.8;\" x=\"50.14375\" xlink:href=\"#m1631a61b57\" y=\"224.33356\"/>\r\n      </g>\r\n     </g>\r\n     <g id=\"text_9\">\r\n      <!-- 0.33 -->\r\n      <defs>\r\n       <path d=\"M 10.6875 12.40625 \r\nL 21 12.40625 \r\nL 21 0 \r\nL 10.6875 0 \r\nz\r\n\" id=\"DejaVuSans-46\"/>\r\n      </defs>\r\n      <g transform=\"translate(20.878125 228.132779)scale(0.1 -0.1)\">\r\n       <use xlink:href=\"#DejaVuSans-48\"/>\r\n       <use x=\"63.623047\" xlink:href=\"#DejaVuSans-46\"/>\r\n       <use x=\"95.410156\" xlink:href=\"#DejaVuSans-51\"/>\r\n       <use x=\"159.033203\" xlink:href=\"#DejaVuSans-51\"/>\r\n      </g>\r\n     </g>\r\n    </g>\r\n    <g id=\"ytick_2\">\r\n     <g id=\"line2d_9\">\r\n      <g>\r\n       <use style=\"stroke:#000000;stroke-width:0.8;\" x=\"50.14375\" xlink:href=\"#m1631a61b57\" y=\"186.408564\"/>\r\n      </g>\r\n     </g>\r\n     <g id=\"text_10\">\r\n      <!-- 0.34 -->\r\n      <defs>\r\n       <path d=\"M 37.796875 64.3125 \r\nL 12.890625 25.390625 \r\nL 37.796875 25.390625 \r\nz\r\nM 35.203125 72.90625 \r\nL 47.609375 72.90625 \r\nL 47.609375 25.390625 \r\nL 58.015625 25.390625 \r\nL 58.015625 17.1875 \r\nL 47.609375 17.1875 \r\nL 47.609375 0 \r\nL 37.796875 0 \r\nL 37.796875 17.1875 \r\nL 4.890625 17.1875 \r\nL 4.890625 26.703125 \r\nz\r\n\" id=\"DejaVuSans-52\"/>\r\n      </defs>\r\n      <g transform=\"translate(20.878125 190.207782)scale(0.1 -0.1)\">\r\n       <use xlink:href=\"#DejaVuSans-48\"/>\r\n       <use x=\"63.623047\" xlink:href=\"#DejaVuSans-46\"/>\r\n       <use x=\"95.410156\" xlink:href=\"#DejaVuSans-51\"/>\r\n       <use x=\"159.033203\" xlink:href=\"#DejaVuSans-52\"/>\r\n      </g>\r\n     </g>\r\n    </g>\r\n    <g id=\"ytick_3\">\r\n     <g id=\"line2d_10\">\r\n      <g>\r\n       <use style=\"stroke:#000000;stroke-width:0.8;\" x=\"50.14375\" xlink:href=\"#m1631a61b57\" y=\"148.483567\"/>\r\n      </g>\r\n     </g>\r\n     <g id=\"text_11\">\r\n      <!-- 0.35 -->\r\n      <g transform=\"translate(20.878125 152.282786)scale(0.1 -0.1)\">\r\n       <use xlink:href=\"#DejaVuSans-48\"/>\r\n       <use x=\"63.623047\" xlink:href=\"#DejaVuSans-46\"/>\r\n       <use x=\"95.410156\" xlink:href=\"#DejaVuSans-51\"/>\r\n       <use x=\"159.033203\" xlink:href=\"#DejaVuSans-53\"/>\r\n      </g>\r\n     </g>\r\n    </g>\r\n    <g id=\"ytick_4\">\r\n     <g id=\"line2d_11\">\r\n      <g>\r\n       <use style=\"stroke:#000000;stroke-width:0.8;\" x=\"50.14375\" xlink:href=\"#m1631a61b57\" y=\"110.558571\"/>\r\n      </g>\r\n     </g>\r\n     <g id=\"text_12\">\r\n      <!-- 0.36 -->\r\n      <defs>\r\n       <path d=\"M 33.015625 40.375 \r\nQ 26.375 40.375 22.484375 35.828125 \r\nQ 18.609375 31.296875 18.609375 23.390625 \r\nQ 18.609375 15.53125 22.484375 10.953125 \r\nQ 26.375 6.390625 33.015625 6.390625 \r\nQ 39.65625 6.390625 43.53125 10.953125 \r\nQ 47.40625 15.53125 47.40625 23.390625 \r\nQ 47.40625 31.296875 43.53125 35.828125 \r\nQ 39.65625 40.375 33.015625 40.375 \r\nz\r\nM 52.59375 71.296875 \r\nL 52.59375 62.3125 \r\nQ 48.875 64.0625 45.09375 64.984375 \r\nQ 41.3125 65.921875 37.59375 65.921875 \r\nQ 27.828125 65.921875 22.671875 59.328125 \r\nQ 17.53125 52.734375 16.796875 39.40625 \r\nQ 19.671875 43.65625 24.015625 45.921875 \r\nQ 28.375 48.1875 33.59375 48.1875 \r\nQ 44.578125 48.1875 50.953125 41.515625 \r\nQ 57.328125 34.859375 57.328125 23.390625 \r\nQ 57.328125 12.15625 50.6875 5.359375 \r\nQ 44.046875 -1.421875 33.015625 -1.421875 \r\nQ 20.359375 -1.421875 13.671875 8.265625 \r\nQ 6.984375 17.96875 6.984375 36.375 \r\nQ 6.984375 53.65625 15.1875 63.9375 \r\nQ 23.390625 74.21875 37.203125 74.21875 \r\nQ 40.921875 74.21875 44.703125 73.484375 \r\nQ 48.484375 72.75 52.59375 71.296875 \r\nz\r\n\" id=\"DejaVuSans-54\"/>\r\n      </defs>\r\n      <g transform=\"translate(20.878125 114.357789)scale(0.1 -0.1)\">\r\n       <use xlink:href=\"#DejaVuSans-48\"/>\r\n       <use x=\"63.623047\" xlink:href=\"#DejaVuSans-46\"/>\r\n       <use x=\"95.410156\" xlink:href=\"#DejaVuSans-51\"/>\r\n       <use x=\"159.033203\" xlink:href=\"#DejaVuSans-54\"/>\r\n      </g>\r\n     </g>\r\n    </g>\r\n    <g id=\"ytick_5\">\r\n     <g id=\"line2d_12\">\r\n      <g>\r\n       <use style=\"stroke:#000000;stroke-width:0.8;\" x=\"50.14375\" xlink:href=\"#m1631a61b57\" y=\"72.633574\"/>\r\n      </g>\r\n     </g>\r\n     <g id=\"text_13\">\r\n      <!-- 0.37 -->\r\n      <defs>\r\n       <path d=\"M 8.203125 72.90625 \r\nL 55.078125 72.90625 \r\nL 55.078125 68.703125 \r\nL 28.609375 0 \r\nL 18.3125 0 \r\nL 43.21875 64.59375 \r\nL 8.203125 64.59375 \r\nz\r\n\" id=\"DejaVuSans-55\"/>\r\n      </defs>\r\n      <g transform=\"translate(20.878125 76.432793)scale(0.1 -0.1)\">\r\n       <use xlink:href=\"#DejaVuSans-48\"/>\r\n       <use x=\"63.623047\" xlink:href=\"#DejaVuSans-46\"/>\r\n       <use x=\"95.410156\" xlink:href=\"#DejaVuSans-51\"/>\r\n       <use x=\"159.033203\" xlink:href=\"#DejaVuSans-55\"/>\r\n      </g>\r\n     </g>\r\n    </g>\r\n    <g id=\"ytick_6\">\r\n     <g id=\"line2d_13\">\r\n      <g>\r\n       <use style=\"stroke:#000000;stroke-width:0.8;\" x=\"50.14375\" xlink:href=\"#m1631a61b57\" y=\"34.708578\"/>\r\n      </g>\r\n     </g>\r\n     <g id=\"text_14\">\r\n      <!-- 0.38 -->\r\n      <defs>\r\n       <path d=\"M 31.78125 34.625 \r\nQ 24.75 34.625 20.71875 30.859375 \r\nQ 16.703125 27.09375 16.703125 20.515625 \r\nQ 16.703125 13.921875 20.71875 10.15625 \r\nQ 24.75 6.390625 31.78125 6.390625 \r\nQ 38.8125 6.390625 42.859375 10.171875 \r\nQ 46.921875 13.96875 46.921875 20.515625 \r\nQ 46.921875 27.09375 42.890625 30.859375 \r\nQ 38.875 34.625 31.78125 34.625 \r\nz\r\nM 21.921875 38.8125 \r\nQ 15.578125 40.375 12.03125 44.71875 \r\nQ 8.5 49.078125 8.5 55.328125 \r\nQ 8.5 64.0625 14.71875 69.140625 \r\nQ 20.953125 74.21875 31.78125 74.21875 \r\nQ 42.671875 74.21875 48.875 69.140625 \r\nQ 55.078125 64.0625 55.078125 55.328125 \r\nQ 55.078125 49.078125 51.53125 44.71875 \r\nQ 48 40.375 41.703125 38.8125 \r\nQ 48.828125 37.15625 52.796875 32.3125 \r\nQ 56.78125 27.484375 56.78125 20.515625 \r\nQ 56.78125 9.90625 50.3125 4.234375 \r\nQ 43.84375 -1.421875 31.78125 -1.421875 \r\nQ 19.734375 -1.421875 13.25 4.234375 \r\nQ 6.78125 9.90625 6.78125 20.515625 \r\nQ 6.78125 27.484375 10.78125 32.3125 \r\nQ 14.796875 37.15625 21.921875 38.8125 \r\nz\r\nM 18.3125 54.390625 \r\nQ 18.3125 48.734375 21.84375 45.5625 \r\nQ 25.390625 42.390625 31.78125 42.390625 \r\nQ 38.140625 42.390625 41.71875 45.5625 \r\nQ 45.3125 48.734375 45.3125 54.390625 \r\nQ 45.3125 60.0625 41.71875 63.234375 \r\nQ 38.140625 66.40625 31.78125 66.40625 \r\nQ 25.390625 66.40625 21.84375 63.234375 \r\nQ 18.3125 60.0625 18.3125 54.390625 \r\nz\r\n\" id=\"DejaVuSans-56\"/>\r\n      </defs>\r\n      <g transform=\"translate(20.878125 38.507796)scale(0.1 -0.1)\">\r\n       <use xlink:href=\"#DejaVuSans-48\"/>\r\n       <use x=\"63.623047\" xlink:href=\"#DejaVuSans-46\"/>\r\n       <use x=\"95.410156\" xlink:href=\"#DejaVuSans-51\"/>\r\n       <use x=\"159.033203\" xlink:href=\"#DejaVuSans-56\"/>\r\n      </g>\r\n     </g>\r\n    </g>\r\n    <g id=\"text_15\">\r\n     <!-- Coherence score -->\r\n     <defs>\r\n      <path d=\"M 64.40625 67.28125 \r\nL 64.40625 56.890625 \r\nQ 59.421875 61.53125 53.78125 63.8125 \r\nQ 48.140625 66.109375 41.796875 66.109375 \r\nQ 29.296875 66.109375 22.65625 58.46875 \r\nQ 16.015625 50.828125 16.015625 36.375 \r\nQ 16.015625 21.96875 22.65625 14.328125 \r\nQ 29.296875 6.6875 41.796875 6.6875 \r\nQ 48.140625 6.6875 53.78125 8.984375 \r\nQ 59.421875 11.28125 64.40625 15.921875 \r\nL 64.40625 5.609375 \r\nQ 59.234375 2.09375 53.4375 0.328125 \r\nQ 47.65625 -1.421875 41.21875 -1.421875 \r\nQ 24.65625 -1.421875 15.125 8.703125 \r\nQ 5.609375 18.84375 5.609375 36.375 \r\nQ 5.609375 53.953125 15.125 64.078125 \r\nQ 24.65625 74.21875 41.21875 74.21875 \r\nQ 47.75 74.21875 53.53125 72.484375 \r\nQ 59.328125 70.75 64.40625 67.28125 \r\nz\r\n\" id=\"DejaVuSans-67\"/>\r\n      <path d=\"M 54.890625 33.015625 \r\nL 54.890625 0 \r\nL 45.90625 0 \r\nL 45.90625 32.71875 \r\nQ 45.90625 40.484375 42.875 44.328125 \r\nQ 39.84375 48.1875 33.796875 48.1875 \r\nQ 26.515625 48.1875 22.3125 43.546875 \r\nQ 18.109375 38.921875 18.109375 30.90625 \r\nL 18.109375 0 \r\nL 9.078125 0 \r\nL 9.078125 75.984375 \r\nL 18.109375 75.984375 \r\nL 18.109375 46.1875 \r\nQ 21.34375 51.125 25.703125 53.5625 \r\nQ 30.078125 56 35.796875 56 \r\nQ 45.21875 56 50.046875 50.171875 \r\nQ 54.890625 44.34375 54.890625 33.015625 \r\nz\r\n\" id=\"DejaVuSans-104\"/>\r\n      <path d=\"M 56.203125 29.59375 \r\nL 56.203125 25.203125 \r\nL 14.890625 25.203125 \r\nQ 15.484375 15.921875 20.484375 11.0625 \r\nQ 25.484375 6.203125 34.421875 6.203125 \r\nQ 39.59375 6.203125 44.453125 7.46875 \r\nQ 49.3125 8.734375 54.109375 11.28125 \r\nL 54.109375 2.78125 \r\nQ 49.265625 0.734375 44.1875 -0.34375 \r\nQ 39.109375 -1.421875 33.890625 -1.421875 \r\nQ 20.796875 -1.421875 13.15625 6.1875 \r\nQ 5.515625 13.8125 5.515625 26.8125 \r\nQ 5.515625 40.234375 12.765625 48.109375 \r\nQ 20.015625 56 32.328125 56 \r\nQ 43.359375 56 49.78125 48.890625 \r\nQ 56.203125 41.796875 56.203125 29.59375 \r\nz\r\nM 47.21875 32.234375 \r\nQ 47.125 39.59375 43.09375 43.984375 \r\nQ 39.0625 48.390625 32.421875 48.390625 \r\nQ 24.90625 48.390625 20.390625 44.140625 \r\nQ 15.875 39.890625 15.1875 32.171875 \r\nz\r\n\" id=\"DejaVuSans-101\"/>\r\n      <path d=\"M 41.109375 46.296875 \r\nQ 39.59375 47.171875 37.8125 47.578125 \r\nQ 36.03125 48 33.890625 48 \r\nQ 26.265625 48 22.1875 43.046875 \r\nQ 18.109375 38.09375 18.109375 28.8125 \r\nL 18.109375 0 \r\nL 9.078125 0 \r\nL 9.078125 54.6875 \r\nL 18.109375 54.6875 \r\nL 18.109375 46.1875 \r\nQ 20.953125 51.171875 25.484375 53.578125 \r\nQ 30.03125 56 36.53125 56 \r\nQ 37.453125 56 38.578125 55.875 \r\nQ 39.703125 55.765625 41.0625 55.515625 \r\nz\r\n\" id=\"DejaVuSans-114\"/>\r\n      <path d=\"M 54.890625 33.015625 \r\nL 54.890625 0 \r\nL 45.90625 0 \r\nL 45.90625 32.71875 \r\nQ 45.90625 40.484375 42.875 44.328125 \r\nQ 39.84375 48.1875 33.796875 48.1875 \r\nQ 26.515625 48.1875 22.3125 43.546875 \r\nQ 18.109375 38.921875 18.109375 30.90625 \r\nL 18.109375 0 \r\nL 9.078125 0 \r\nL 9.078125 54.6875 \r\nL 18.109375 54.6875 \r\nL 18.109375 46.1875 \r\nQ 21.34375 51.125 25.703125 53.5625 \r\nQ 30.078125 56 35.796875 56 \r\nQ 45.21875 56 50.046875 50.171875 \r\nQ 54.890625 44.34375 54.890625 33.015625 \r\nz\r\n\" id=\"DejaVuSans-110\"/>\r\n     </defs>\r\n     <g transform=\"translate(14.798438 157.973906)rotate(-90)scale(0.1 -0.1)\">\r\n      <use xlink:href=\"#DejaVuSans-67\"/>\r\n      <use x=\"69.824219\" xlink:href=\"#DejaVuSans-111\"/>\r\n      <use x=\"131.005859\" xlink:href=\"#DejaVuSans-104\"/>\r\n      <use x=\"194.384766\" xlink:href=\"#DejaVuSans-101\"/>\r\n      <use x=\"255.908203\" xlink:href=\"#DejaVuSans-114\"/>\r\n      <use x=\"296.990234\" xlink:href=\"#DejaVuSans-101\"/>\r\n      <use x=\"358.513672\" xlink:href=\"#DejaVuSans-110\"/>\r\n      <use x=\"421.892578\" xlink:href=\"#DejaVuSans-99\"/>\r\n      <use x=\"476.873047\" xlink:href=\"#DejaVuSans-101\"/>\r\n      <use x=\"538.396484\" xlink:href=\"#DejaVuSans-32\"/>\r\n      <use x=\"570.183594\" xlink:href=\"#DejaVuSans-115\"/>\r\n      <use x=\"622.283203\" xlink:href=\"#DejaVuSans-99\"/>\r\n      <use x=\"677.263672\" xlink:href=\"#DejaVuSans-111\"/>\r\n      <use x=\"738.445312\" xlink:href=\"#DejaVuSans-114\"/>\r\n      <use x=\"779.527344\" xlink:href=\"#DejaVuSans-101\"/>\r\n     </g>\r\n    </g>\r\n   </g>\r\n   <g id=\"line2d_14\">\r\n    <path clip-path=\"url(#p317be2c115)\" d=\"M 65.361932 214.756364 \r\nL 116.089205 114.286686 \r\nL 166.816477 42.730086 \r\nL 217.54375 49.495034 \r\nL 268.271023 59.057309 \r\nL 318.998295 40.377837 \r\nL 369.725568 17.083636 \r\n\" style=\"fill:none;stroke:#1f77b4;stroke-linecap:square;stroke-width:1.5;\"/>\r\n   </g>\r\n   <g id=\"patch_3\">\r\n    <path d=\"M 50.14375 224.64 \r\nL 50.14375 7.2 \r\n\" style=\"fill:none;stroke:#000000;stroke-linecap:square;stroke-linejoin:miter;stroke-width:0.8;\"/>\r\n   </g>\r\n   <g id=\"patch_4\">\r\n    <path d=\"M 384.94375 224.64 \r\nL 384.94375 7.2 \r\n\" style=\"fill:none;stroke:#000000;stroke-linecap:square;stroke-linejoin:miter;stroke-width:0.8;\"/>\r\n   </g>\r\n   <g id=\"patch_5\">\r\n    <path d=\"M 50.14375 224.64 \r\nL 384.94375 224.64 \r\n\" style=\"fill:none;stroke:#000000;stroke-linecap:square;stroke-linejoin:miter;stroke-width:0.8;\"/>\r\n   </g>\r\n   <g id=\"patch_6\">\r\n    <path d=\"M 50.14375 7.2 \r\nL 384.94375 7.2 \r\n\" style=\"fill:none;stroke:#000000;stroke-linecap:square;stroke-linejoin:miter;stroke-width:0.8;\"/>\r\n   </g>\r\n   <g id=\"legend_1\">\r\n    <g id=\"patch_7\">\r\n     <path d=\"M 57.14375 29.878125 \r\nL 94.642188 29.878125 \r\nQ 96.642188 29.878125 96.642188 27.878125 \r\nL 96.642188 14.2 \r\nQ 96.642188 12.2 94.642188 12.2 \r\nL 57.14375 12.2 \r\nQ 55.14375 12.2 55.14375 14.2 \r\nL 55.14375 27.878125 \r\nQ 55.14375 29.878125 57.14375 29.878125 \r\nz\r\n\" style=\"fill:#ffffff;opacity:0.8;stroke:#cccccc;stroke-linejoin:miter;\"/>\r\n    </g>\r\n    <g id=\"line2d_15\">\r\n     <path d=\"M 59.14375 20.298438 \r\nL 79.14375 20.298438 \r\n\" style=\"fill:none;stroke:#1f77b4;stroke-linecap:square;stroke-width:1.5;\"/>\r\n    </g>\r\n    <g id=\"line2d_16\"/>\r\n    <g id=\"text_16\">\r\n     <!-- c -->\r\n     <g transform=\"translate(87.14375 23.798438)scale(0.1 -0.1)\">\r\n      <use xlink:href=\"#DejaVuSans-99\"/>\r\n     </g>\r\n    </g>\r\n   </g>\r\n  </g>\r\n </g>\r\n <defs>\r\n  <clipPath id=\"p317be2c115\">\r\n   <rect height=\"217.44\" width=\"334.8\" x=\"50.14375\" y=\"7.2\"/>\r\n  </clipPath>\r\n </defs>\r\n</svg>\r\n",
      "image/png": "[encoded data removed]"
     },
     "metadata": {
      "needs_background": "light"
     }
    }
   ],
   "source": [
    "# Show graph\n",
    "limit=40; start=2; step=6;\n",
    "x = range(start, limit, step)\n",
    "plt.plot(x, coherence_values)\n",
    "plt.xlabel(\"Num Topics\")\n",
    "plt.ylabel(\"Coherence score\")\n",
    "plt.legend((\"coherence_values\"), loc='best')\n",
    "plt.show()"
   ]
  },
  {
   "cell_type": "code",
   "execution_count": 35,
   "metadata": {
    "tags": []
   },
   "outputs": [
    {
     "output_type": "stream",
     "name": "stdout",
     "text": "Num Topics = 2  has Coherence Value of 0.3325\nNum Topics = 8  has Coherence Value of 0.359\nNum Topics = 14  has Coherence Value of 0.3779\nNum Topics = 20  has Coherence Value of 0.3761\nNum Topics = 26  has Coherence Value of 0.3736\nNum Topics = 32  has Coherence Value of 0.3785\nNum Topics = 38  has Coherence Value of 0.3846\n"
    }
   ],
   "source": [
    "for m, cv in zip(x, coherence_values):\n",
    "    print(\"Num Topics =\", m, \" has Coherence Value of\", round(cv, 4))"
   ]
  },
  {
   "cell_type": "code",
   "execution_count": 36,
   "metadata": {
    "tags": []
   },
   "outputs": [
    {
     "output_type": "stream",
     "name": "stdout",
     "text": "[(0,\n  '0.088*\"gate\" + 0.061*\"bill\" + 0.018*\"money\" + 0.017*\"billionaire\" + '\n  '0.017*\"world\" + 0.016*\"dollar\" + 0.016*\"year\" + 0.012*\"company\" + '\n  '0.012*\"computer\" + 0.011*\"share\"'),\n (1,\n  '0.046*\"people\" + 0.027*\"woman\" + 0.022*\"feel\" + 0.021*\"give\" + '\n  '0.019*\"family\" + 0.018*\"happen\" + 0.016*\"child\" + 0.016*\"thing\" + '\n  '0.014*\"talk\" + 0.014*\"bill\"'),\n (2,\n  '0.036*\"thing\" + 0.028*\"software\" + 0.027*\"company\" + 0.018*\"computer\" + '\n  '0.016*\"people\" + 0.016*\"year\" + 0.013*\"lot\" + 0.012*\"apple\" + '\n  '0.012*\"product\" + 0.011*\"business\"'),\n (3,\n  '0.025*\"make\" + 0.021*\"epidemic\" + 0.020*\"time\" + 0.018*\"spread\" + '\n  '0.018*\"people\" + 0.017*\"thing\" + 0.016*\"ready\" + 0.015*\"create\" + '\n  '0.013*\"virus\" + 0.012*\"happen\"'),\n (4,\n  '0.024*\"world\" + 0.023*\"virus\" + 0.013*\"seed\" + 0.013*\"pandemic\" + '\n  '0.011*\"kill\" + 0.009*\"population\" + 0.009*\"people\" + 0.009*\"video\" + '\n  '0.009*\"fear\" + 0.009*\"news\"'),\n (5,\n  '0.024*\"make\" + 0.022*\"energy\" + 0.016*\"water\" + 0.015*\"world\" + '\n  '0.013*\"technology\" + 0.013*\"power\" + 0.010*\"waste\" + 0.009*\"planet\" + '\n  '0.009*\"service\" + 0.009*\"change\"'),\n (6,\n  '0.047*\"gate\" + 0.026*\"global\" + 0.018*\"health\" + 0.017*\"fund\" + '\n  '0.015*\"public\" + 0.012*\"foundation\" + 0.011*\"world\" + 0.010*\"government\" + '\n  '0.009*\"research\" + 0.009*\"bill\"'),\n (7,\n  '0.013*\"friend\" + 0.012*\"die\" + 0.011*\"give\" + 0.011*\"real\" + 0.011*\"gate\" + '\n  '0.010*\"freedom\" + 0.010*\"plan\" + 0.010*\"long\" + 0.009*\"citizen\" + '\n  '0.009*\"agreement\"'),\n (8,\n  '0.042*\"thing\" + 0.030*\"people\" + 0.022*\"country\" + 0.021*\"money\" + '\n  '0.016*\"high\" + 0.016*\"lot\" + 0.014*\"level\" + 0.014*\"year\" + 0.013*\"percent\" '\n  '+ 0.013*\"government\"'),\n (9,\n  '0.047*\"people\" + 0.022*\"test\" + 0.020*\"country\" + 0.017*\"thing\" + '\n  '0.015*\"number\" + 0.015*\"lot\" + 0.014*\"back\" + 0.011*\"month\" + 0.011*\"work\" '\n  '+ 0.011*\"time\"'),\n (10,\n  '0.031*\"health\" + 0.029*\"disease\" + 0.029*\"year\" + 0.024*\"country\" + '\n  '0.020*\"system\" + 0.018*\"child\" + 0.016*\"great\" + 0.016*\"drug\" + '\n  '0.015*\"world\" + 0.014*\"case\"'),\n (11,\n  '0.053*\"work\" + 0.036*\"people\" + 0.033*\"make\" + 0.032*\"time\" + 0.019*\"give\" '\n  '+ 0.019*\"great\" + 0.018*\"live\" + 0.017*\"big\" + 0.015*\"life\" + 0.013*\"rich\"'),\n (12,\n  '0.049*\"make\" + 0.029*\"learn\" + 0.029*\"school\" + 0.021*\"teacher\" + '\n  '0.016*\"laughter\" + 0.016*\"student\" + 0.016*\"put\" + 0.016*\"talk\" + '\n  '0.015*\"give\" + 0.014*\"meet\"'),\n (13,\n  '0.038*\"year\" + 0.030*\"work\" + 0.028*\"money\" + 0.027*\"people\" + 0.022*\"make\" '\n  '+ 0.022*\"thing\" + 0.021*\"kid\" + 0.019*\"story\" + 0.017*\"gt\" + 0.016*\"big\"'),\n (14,\n  '0.024*\"time\" + 0.016*\"trump\" + 0.012*\"game\" + 0.012*\"show\" + 0.012*\"video\" '\n  '+ 0.011*\"check\" + 0.011*\"play\" + 0.010*\"real\" + 0.010*\"leave\" + '\n  '0.010*\"case\"'),\n (15,\n  '0.018*\"gate\" + 0.017*\"system\" + 0.017*\"control\" + 0.013*\"government\" + '\n  '0.012*\"child\" + 0.011*\"digital\" + 0.011*\"population\" + 0.010*\"health\" + '\n  '0.007*\"world\" + 0.007*\"report\"'),\n (16,\n  '0.053*\"thing\" + 0.026*\"lot\" + 0.022*\"problem\" + 0.018*\"good\" + '\n  '0.016*\"people\" + 0.014*\"kind\" + 0.013*\"term\" + 0.011*\"sort\" + '\n  '0.011*\"science\" + 0.010*\"sense\"'),\n (17,\n  '0.031*\"people\" + 0.026*\"world\" + 0.021*\"make\" + 0.018*\"life\" + '\n  '0.011*\"problem\" + 0.011*\"million\" + 0.010*\"save\" + 0.009*\"good\" + '\n  '0.009*\"year\" + 0.008*\"time\"'),\n (18,\n  '0.028*\"good\" + 0.027*\"people\" + 0.027*\"time\" + 0.024*\"read\" + 0.023*\"book\" '\n  '+ 0.022*\"start\" + 0.021*\"day\" + 0.018*\"life\" + 0.016*\"video\" + '\n  '0.014*\"love\"'),\n (19,\n  '0.114*\"vaccine\" + 0.019*\"vaccination\" + 0.016*\"gate\" + 0.014*\"make\" + '\n  '0.013*\"develop\" + 0.012*\"development\" + 0.012*\"decade\" + 0.011*\"world\" + '\n  '0.010*\"health\" + 0.010*\"risk\"')]\n"
    }
   ],
   "source": [
    "# Select the model and print the topics\n",
    "optimal_model = model_list[3]\n",
    "model_topics = optimal_model.show_topics(formatted=False)\n",
    "pprint(optimal_model.print_topics(num_words=10))"
   ]
  },
  {
   "cell_type": "code",
   "execution_count": 37,
   "metadata": {},
   "outputs": [
    {
     "output_type": "execute_result",
     "data": {
      "text/plain": "   Document_No  Dominant_Topic  Topic_Perc_Contrib  \\\n0            0             0.0              0.2020   \n1            1             0.0              0.0500   \n2            2             4.0              0.2345   \n3            3             4.0              0.2669   \n4            4             4.0              0.3123   \n5            5             9.0              0.1493   \n6            6             3.0              0.4587   \n7            7             4.0              0.2912   \n8            8             2.0              0.5345   \n9            9             4.0              0.2197   \n\n                                            Keywords  \\\n0  gate, bill, money, billionaire, world, dollar,...   \n1  gate, bill, money, billionaire, world, dollar,...   \n2  world, virus, seed, pandemic, kill, population...   \n3  world, virus, seed, pandemic, kill, population...   \n4  world, virus, seed, pandemic, kill, population...   \n5  people, test, country, thing, number, lot, bac...   \n6  make, epidemic, time, spread, people, thing, r...   \n7  world, virus, seed, pandemic, kill, population...   \n8  thing, software, company, computer, people, ye...   \n9  world, virus, seed, pandemic, kill, population...   \n\n                                                Text  \n0  This man no longer has a title: that of the ri...  \n1                                       Not possible  \n2  Welcome to Interesting Short Documentaries ! T...  \n3  Music playing! music playing! music playing! h...  \n4  Over 26 billion tons For each American its abo...  \n5  \"We dont trust this model. The code is unknown...  \n6  As a child, the catastrophe that most concerne...  \n7  Hello and welcome to the interview for France2...  \n8  Ive invited here today 3 industry experts to h...  \n9  Translated by BrasiLIndomaveL.com.br Submitted...  ",
      "text/html": "<div>\n<style scoped>\n    .dataframe tbody tr th:only-of-type {\n        vertical-align: middle;\n    }\n\n    .dataframe tbody tr th {\n        vertical-align: top;\n    }\n\n    .dataframe thead th {\n        text-align: right;\n    }\n</style>\n<table border=\"1\" class=\"dataframe\">\n  <thead>\n    <tr style=\"text-align: right;\">\n      <th></th>\n      <th>Document_No</th>\n      <th>Dominant_Topic</th>\n      <th>Topic_Perc_Contrib</th>\n      <th>Keywords</th>\n      <th>Text</th>\n    </tr>\n  </thead>\n  <tbody>\n    <tr>\n      <th>0</th>\n      <td>0</td>\n      <td>0.0</td>\n      <td>0.2020</td>\n      <td>gate, bill, money, billionaire, world, dollar,...</td>\n      <td>This man no longer has a title: that of the ri...</td>\n    </tr>\n    <tr>\n      <th>1</th>\n      <td>1</td>\n      <td>0.0</td>\n      <td>0.0500</td>\n      <td>gate, bill, money, billionaire, world, dollar,...</td>\n      <td>Not possible</td>\n    </tr>\n    <tr>\n      <th>2</th>\n      <td>2</td>\n      <td>4.0</td>\n      <td>0.2345</td>\n      <td>world, virus, seed, pandemic, kill, population...</td>\n      <td>Welcome to Interesting Short Documentaries ! T...</td>\n    </tr>\n    <tr>\n      <th>3</th>\n      <td>3</td>\n      <td>4.0</td>\n      <td>0.2669</td>\n      <td>world, virus, seed, pandemic, kill, population...</td>\n      <td>Music playing! music playing! music playing! h...</td>\n    </tr>\n    <tr>\n      <th>4</th>\n      <td>4</td>\n      <td>4.0</td>\n      <td>0.3123</td>\n      <td>world, virus, seed, pandemic, kill, population...</td>\n      <td>Over 26 billion tons For each American its abo...</td>\n    </tr>\n    <tr>\n      <th>5</th>\n      <td>5</td>\n      <td>9.0</td>\n      <td>0.1493</td>\n      <td>people, test, country, thing, number, lot, bac...</td>\n      <td>\"We dont trust this model. The code is unknown...</td>\n    </tr>\n    <tr>\n      <th>6</th>\n      <td>6</td>\n      <td>3.0</td>\n      <td>0.4587</td>\n      <td>make, epidemic, time, spread, people, thing, r...</td>\n      <td>As a child, the catastrophe that most concerne...</td>\n    </tr>\n    <tr>\n      <th>7</th>\n      <td>7</td>\n      <td>4.0</td>\n      <td>0.2912</td>\n      <td>world, virus, seed, pandemic, kill, population...</td>\n      <td>Hello and welcome to the interview for France2...</td>\n    </tr>\n    <tr>\n      <th>8</th>\n      <td>8</td>\n      <td>2.0</td>\n      <td>0.5345</td>\n      <td>thing, software, company, computer, people, ye...</td>\n      <td>Ive invited here today 3 industry experts to h...</td>\n    </tr>\n    <tr>\n      <th>9</th>\n      <td>9</td>\n      <td>4.0</td>\n      <td>0.2197</td>\n      <td>world, virus, seed, pandemic, kill, population...</td>\n      <td>Translated by BrasiLIndomaveL.com.br Submitted...</td>\n    </tr>\n  </tbody>\n</table>\n</div>"
     },
     "metadata": {},
     "execution_count": 37
    }
   ],
   "source": [
    "def format_topics_sentences(ldamodel=lda_model, corpus=corpus, texts=data):\n",
    "    # Init output\n",
    "    sent_topics_df = pd.DataFrame()\n",
    "\n",
    "    # Get main topic in each document\n",
    "    for i, row in enumerate(ldamodel[corpus]):\n",
    "        row = sorted(row, key=lambda x: (x[1]), reverse=True)\n",
    "        # Get the Dominant topic, Perc Contribution and Keywords for each document\n",
    "        for j, (topic_num, prop_topic) in enumerate(row):\n",
    "            if j == 0:  # => dominant topic\n",
    "                wp = ldamodel.show_topic(topic_num)\n",
    "                topic_keywords = \", \".join([word for word, prop in wp])\n",
    "                sent_topics_df = sent_topics_df.append(pd.Series([int(topic_num), round(prop_topic,4), topic_keywords]), ignore_index=True)\n",
    "            else:\n",
    "                break\n",
    "    sent_topics_df.columns = ['Dominant_Topic', 'Perc_Contribution', 'Topic_Keywords']\n",
    "\n",
    "    # Add original text to the end of the output\n",
    "    contents = pd.Series(texts)\n",
    "    sent_topics_df = pd.concat([sent_topics_df, contents], axis=1)\n",
    "    return(sent_topics_df)\n",
    "\n",
    "\n",
    "df_topic_sents_keywords = format_topics_sentences(ldamodel=optimal_model, corpus=corpus, texts=data)\n",
    "\n",
    "# Format\n",
    "df_dominant_topic = df_topic_sents_keywords.reset_index()\n",
    "df_dominant_topic.columns = ['Document_No', 'Dominant_Topic', 'Topic_Perc_Contrib', 'Keywords', 'Text']\n",
    "\n",
    "# Show\n",
    "df_dominant_topic.head(10)"
   ]
  },
  {
   "cell_type": "code",
   "execution_count": 41,
   "metadata": {},
   "outputs": [],
   "source": [
    "df_dominant_topic.to_csv('vidtext_topics.csv')"
   ]
  }
 ],
 "metadata": {
  "language_info": {
   "codemirror_mode": {
    "name": "ipython",
    "version": 3
   },
   "file_extension": ".py",
   "mimetype": "text/x-python",
   "name": "python",
   "nbconvert_exporter": "python",
   "pygments_lexer": "ipython3",
   "version": "3.7.6-final"
  },
  "orig_nbformat": 2,
  "kernelspec": {
   "name": "python3",
   "display_name": "Python 3"
  }
 },
 "nbformat": 4,
 "nbformat_minor": 2
}